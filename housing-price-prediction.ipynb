{
 "cells": [
  {
   "cell_type": "markdown",
   "id": "0aa21849",
   "metadata": {
    "papermill": {
     "duration": 0.017434,
     "end_time": "2024-07-23T18:22:50.019956",
     "exception": false,
     "start_time": "2024-07-23T18:22:50.002522",
     "status": "completed"
    },
    "tags": []
   },
   "source": [
    "# We aim to predict the house prices"
   ]
  },
  {
   "cell_type": "code",
   "execution_count": 1,
   "id": "fa436b19",
   "metadata": {
    "_cell_guid": "b1076dfc-b9ad-4769-8c92-a6c4dae69d19",
    "_uuid": "8f2839f25d086af736a60e9eeb907d3b93b6e0e5",
    "execution": {
     "iopub.execute_input": "2024-07-23T18:22:50.057509Z",
     "iopub.status.busy": "2024-07-23T18:22:50.056986Z",
     "iopub.status.idle": "2024-07-23T18:22:52.718740Z",
     "shell.execute_reply": "2024-07-23T18:22:52.717214Z"
    },
    "papermill": {
     "duration": 2.684411,
     "end_time": "2024-07-23T18:22:52.721819",
     "exception": false,
     "start_time": "2024-07-23T18:22:50.037408",
     "status": "completed"
    },
    "tags": []
   },
   "outputs": [],
   "source": [
    "import numpy as np\n",
    "import pandas as pd\n",
    "import matplotlib.pyplot as plt\n",
    "from sklearn.preprocessing import LabelEncoder\n",
    "from sklearn.model_selection import train_test_split\n",
    "from sklearn.linear_model import LinearRegression, RidgeCV, LassoCV, ElasticNetCV\n",
    "from sklearn.metrics import r2_score"
   ]
  },
  {
   "cell_type": "code",
   "execution_count": 2,
   "id": "04b5eca1",
   "metadata": {
    "execution": {
     "iopub.execute_input": "2024-07-23T18:22:52.759304Z",
     "iopub.status.busy": "2024-07-23T18:22:52.758742Z",
     "iopub.status.idle": "2024-07-23T18:22:52.814292Z",
     "shell.execute_reply": "2024-07-23T18:22:52.813120Z"
    },
    "papermill": {
     "duration": 0.078028,
     "end_time": "2024-07-23T18:22:52.817094",
     "exception": false,
     "start_time": "2024-07-23T18:22:52.739066",
     "status": "completed"
    },
    "tags": []
   },
   "outputs": [
    {
     "data": {
      "text/html": [
       "<div>\n",
       "<style scoped>\n",
       "    .dataframe tbody tr th:only-of-type {\n",
       "        vertical-align: middle;\n",
       "    }\n",
       "\n",
       "    .dataframe tbody tr th {\n",
       "        vertical-align: top;\n",
       "    }\n",
       "\n",
       "    .dataframe thead th {\n",
       "        text-align: right;\n",
       "    }\n",
       "</style>\n",
       "<table border=\"1\" class=\"dataframe\">\n",
       "  <thead>\n",
       "    <tr style=\"text-align: right;\">\n",
       "      <th></th>\n",
       "      <th>price</th>\n",
       "      <th>area</th>\n",
       "      <th>bedrooms</th>\n",
       "      <th>bathrooms</th>\n",
       "      <th>stories</th>\n",
       "      <th>mainroad</th>\n",
       "      <th>guestroom</th>\n",
       "      <th>basement</th>\n",
       "      <th>hotwaterheating</th>\n",
       "      <th>airconditioning</th>\n",
       "      <th>parking</th>\n",
       "      <th>prefarea</th>\n",
       "      <th>furnishingstatus</th>\n",
       "    </tr>\n",
       "  </thead>\n",
       "  <tbody>\n",
       "    <tr>\n",
       "      <th>0</th>\n",
       "      <td>13300000</td>\n",
       "      <td>7420</td>\n",
       "      <td>4</td>\n",
       "      <td>2</td>\n",
       "      <td>3</td>\n",
       "      <td>yes</td>\n",
       "      <td>no</td>\n",
       "      <td>no</td>\n",
       "      <td>no</td>\n",
       "      <td>yes</td>\n",
       "      <td>2</td>\n",
       "      <td>yes</td>\n",
       "      <td>furnished</td>\n",
       "    </tr>\n",
       "    <tr>\n",
       "      <th>1</th>\n",
       "      <td>12250000</td>\n",
       "      <td>8960</td>\n",
       "      <td>4</td>\n",
       "      <td>4</td>\n",
       "      <td>4</td>\n",
       "      <td>yes</td>\n",
       "      <td>no</td>\n",
       "      <td>no</td>\n",
       "      <td>no</td>\n",
       "      <td>yes</td>\n",
       "      <td>3</td>\n",
       "      <td>no</td>\n",
       "      <td>furnished</td>\n",
       "    </tr>\n",
       "    <tr>\n",
       "      <th>2</th>\n",
       "      <td>12250000</td>\n",
       "      <td>9960</td>\n",
       "      <td>3</td>\n",
       "      <td>2</td>\n",
       "      <td>2</td>\n",
       "      <td>yes</td>\n",
       "      <td>no</td>\n",
       "      <td>yes</td>\n",
       "      <td>no</td>\n",
       "      <td>no</td>\n",
       "      <td>2</td>\n",
       "      <td>yes</td>\n",
       "      <td>semi-furnished</td>\n",
       "    </tr>\n",
       "    <tr>\n",
       "      <th>3</th>\n",
       "      <td>12215000</td>\n",
       "      <td>7500</td>\n",
       "      <td>4</td>\n",
       "      <td>2</td>\n",
       "      <td>2</td>\n",
       "      <td>yes</td>\n",
       "      <td>no</td>\n",
       "      <td>yes</td>\n",
       "      <td>no</td>\n",
       "      <td>yes</td>\n",
       "      <td>3</td>\n",
       "      <td>yes</td>\n",
       "      <td>furnished</td>\n",
       "    </tr>\n",
       "    <tr>\n",
       "      <th>4</th>\n",
       "      <td>11410000</td>\n",
       "      <td>7420</td>\n",
       "      <td>4</td>\n",
       "      <td>1</td>\n",
       "      <td>2</td>\n",
       "      <td>yes</td>\n",
       "      <td>yes</td>\n",
       "      <td>yes</td>\n",
       "      <td>no</td>\n",
       "      <td>yes</td>\n",
       "      <td>2</td>\n",
       "      <td>no</td>\n",
       "      <td>furnished</td>\n",
       "    </tr>\n",
       "  </tbody>\n",
       "</table>\n",
       "</div>"
      ],
      "text/plain": [
       "      price  area  bedrooms  bathrooms  stories mainroad guestroom basement  \\\n",
       "0  13300000  7420         4          2        3      yes        no       no   \n",
       "1  12250000  8960         4          4        4      yes        no       no   \n",
       "2  12250000  9960         3          2        2      yes        no      yes   \n",
       "3  12215000  7500         4          2        2      yes        no      yes   \n",
       "4  11410000  7420         4          1        2      yes       yes      yes   \n",
       "\n",
       "  hotwaterheating airconditioning  parking prefarea furnishingstatus  \n",
       "0              no             yes        2      yes        furnished  \n",
       "1              no             yes        3       no        furnished  \n",
       "2              no              no        2      yes   semi-furnished  \n",
       "3              no             yes        3      yes        furnished  \n",
       "4              no             yes        2       no        furnished  "
      ]
     },
     "execution_count": 2,
     "metadata": {},
     "output_type": "execute_result"
    }
   ],
   "source": [
    "df = pd.read_csv(\"/kaggle/input/housing-price-prediction/Housing.csv\")\n",
    "df.head()"
   ]
  },
  {
   "cell_type": "markdown",
   "id": "8449eb32",
   "metadata": {
    "papermill": {
     "duration": 0.017182,
     "end_time": "2024-07-23T18:22:52.851731",
     "exception": false,
     "start_time": "2024-07-23T18:22:52.834549",
     "status": "completed"
    },
    "tags": []
   },
   "source": [
    "## Preprocessing and data cleaning:"
   ]
  },
  {
   "cell_type": "markdown",
   "id": "3a5c40ff",
   "metadata": {
    "papermill": {
     "duration": 0.017331,
     "end_time": "2024-07-23T18:22:52.886528",
     "exception": false,
     "start_time": "2024-07-23T18:22:52.869197",
     "status": "completed"
    },
    "tags": []
   },
   "source": [
    "### Let's explore the dataframe"
   ]
  },
  {
   "cell_type": "markdown",
   "id": "d7ace292",
   "metadata": {
    "papermill": {
     "duration": 0.017837,
     "end_time": "2024-07-23T18:22:52.922244",
     "exception": false,
     "start_time": "2024-07-23T18:22:52.904407",
     "status": "completed"
    },
    "tags": []
   },
   "source": [
    "### It's not a very big dataframe:"
   ]
  },
  {
   "cell_type": "code",
   "execution_count": 3,
   "id": "8a50871f",
   "metadata": {
    "execution": {
     "iopub.execute_input": "2024-07-23T18:22:52.959464Z",
     "iopub.status.busy": "2024-07-23T18:22:52.959000Z",
     "iopub.status.idle": "2024-07-23T18:22:52.966330Z",
     "shell.execute_reply": "2024-07-23T18:22:52.965213Z"
    },
    "papermill": {
     "duration": 0.028699,
     "end_time": "2024-07-23T18:22:52.968751",
     "exception": false,
     "start_time": "2024-07-23T18:22:52.940052",
     "status": "completed"
    },
    "tags": []
   },
   "outputs": [
    {
     "data": {
      "text/plain": [
       "RangeIndex(start=0, stop=545, step=1)"
      ]
     },
     "execution_count": 3,
     "metadata": {},
     "output_type": "execute_result"
    }
   ],
   "source": [
    "df.index"
   ]
  },
  {
   "cell_type": "code",
   "execution_count": 4,
   "id": "d865a701",
   "metadata": {
    "execution": {
     "iopub.execute_input": "2024-07-23T18:22:53.006625Z",
     "iopub.status.busy": "2024-07-23T18:22:53.006213Z",
     "iopub.status.idle": "2024-07-23T18:22:53.015385Z",
     "shell.execute_reply": "2024-07-23T18:22:53.014156Z"
    },
    "papermill": {
     "duration": 0.030863,
     "end_time": "2024-07-23T18:22:53.017828",
     "exception": false,
     "start_time": "2024-07-23T18:22:52.986965",
     "status": "completed"
    },
    "tags": []
   },
   "outputs": [
    {
     "data": {
      "text/plain": [
       "price                int64\n",
       "area                 int64\n",
       "bedrooms             int64\n",
       "bathrooms            int64\n",
       "stories              int64\n",
       "mainroad            object\n",
       "guestroom           object\n",
       "basement            object\n",
       "hotwaterheating     object\n",
       "airconditioning     object\n",
       "parking              int64\n",
       "prefarea            object\n",
       "furnishingstatus    object\n",
       "dtype: object"
      ]
     },
     "execution_count": 4,
     "metadata": {},
     "output_type": "execute_result"
    }
   ],
   "source": [
    "df.dtypes"
   ]
  },
  {
   "cell_type": "markdown",
   "id": "73c36d93",
   "metadata": {
    "papermill": {
     "duration": 0.017852,
     "end_time": "2024-07-23T18:22:53.053368",
     "exception": false,
     "start_time": "2024-07-23T18:22:53.035516",
     "status": "completed"
    },
    "tags": []
   },
   "source": [
    "## There is no null value:"
   ]
  },
  {
   "cell_type": "code",
   "execution_count": 5,
   "id": "c9a4f061",
   "metadata": {
    "execution": {
     "iopub.execute_input": "2024-07-23T18:22:53.090921Z",
     "iopub.status.busy": "2024-07-23T18:22:53.090514Z",
     "iopub.status.idle": "2024-07-23T18:22:53.102463Z",
     "shell.execute_reply": "2024-07-23T18:22:53.101235Z"
    },
    "papermill": {
     "duration": 0.034622,
     "end_time": "2024-07-23T18:22:53.105535",
     "exception": false,
     "start_time": "2024-07-23T18:22:53.070913",
     "status": "completed"
    },
    "tags": []
   },
   "outputs": [
    {
     "data": {
      "text/plain": [
       "price               0\n",
       "area                0\n",
       "bedrooms            0\n",
       "bathrooms           0\n",
       "stories             0\n",
       "mainroad            0\n",
       "guestroom           0\n",
       "basement            0\n",
       "hotwaterheating     0\n",
       "airconditioning     0\n",
       "parking             0\n",
       "prefarea            0\n",
       "furnishingstatus    0\n",
       "dtype: int64"
      ]
     },
     "execution_count": 5,
     "metadata": {},
     "output_type": "execute_result"
    }
   ],
   "source": [
    "df.isnull().sum()"
   ]
  },
  {
   "cell_type": "markdown",
   "id": "338a27d6",
   "metadata": {
    "papermill": {
     "duration": 0.018568,
     "end_time": "2024-07-23T18:22:53.142062",
     "exception": false,
     "start_time": "2024-07-23T18:22:53.123494",
     "status": "completed"
    },
    "tags": []
   },
   "source": [
    "### It uses a very small amount of memory:"
   ]
  },
  {
   "cell_type": "code",
   "execution_count": 6,
   "id": "b3fdf785",
   "metadata": {
    "execution": {
     "iopub.execute_input": "2024-07-23T18:22:53.181141Z",
     "iopub.status.busy": "2024-07-23T18:22:53.180685Z",
     "iopub.status.idle": "2024-07-23T18:22:53.206934Z",
     "shell.execute_reply": "2024-07-23T18:22:53.205606Z"
    },
    "papermill": {
     "duration": 0.048691,
     "end_time": "2024-07-23T18:22:53.209485",
     "exception": false,
     "start_time": "2024-07-23T18:22:53.160794",
     "status": "completed"
    },
    "tags": []
   },
   "outputs": [
    {
     "name": "stdout",
     "output_type": "stream",
     "text": [
      "<class 'pandas.core.frame.DataFrame'>\n",
      "RangeIndex: 545 entries, 0 to 544\n",
      "Data columns (total 13 columns):\n",
      " #   Column            Non-Null Count  Dtype \n",
      "---  ------            --------------  ----- \n",
      " 0   price             545 non-null    int64 \n",
      " 1   area              545 non-null    int64 \n",
      " 2   bedrooms          545 non-null    int64 \n",
      " 3   bathrooms         545 non-null    int64 \n",
      " 4   stories           545 non-null    int64 \n",
      " 5   mainroad          545 non-null    object\n",
      " 6   guestroom         545 non-null    object\n",
      " 7   basement          545 non-null    object\n",
      " 8   hotwaterheating   545 non-null    object\n",
      " 9   airconditioning   545 non-null    object\n",
      " 10  parking           545 non-null    int64 \n",
      " 11  prefarea          545 non-null    object\n",
      " 12  furnishingstatus  545 non-null    object\n",
      "dtypes: int64(6), object(7)\n",
      "memory usage: 55.5+ KB\n"
     ]
    }
   ],
   "source": [
    "df.info()"
   ]
  },
  {
   "cell_type": "markdown",
   "id": "87e77a9d",
   "metadata": {
    "papermill": {
     "duration": 0.017632,
     "end_time": "2024-07-23T18:22:53.244967",
     "exception": false,
     "start_time": "2024-07-23T18:22:53.227335",
     "status": "completed"
    },
    "tags": []
   },
   "source": [
    "### There is no row with any negative value:"
   ]
  },
  {
   "cell_type": "code",
   "execution_count": 7,
   "id": "6c350036",
   "metadata": {
    "execution": {
     "iopub.execute_input": "2024-07-23T18:22:53.282514Z",
     "iopub.status.busy": "2024-07-23T18:22:53.282065Z",
     "iopub.status.idle": "2024-07-23T18:22:53.306585Z",
     "shell.execute_reply": "2024-07-23T18:22:53.305414Z"
    },
    "papermill": {
     "duration": 0.046352,
     "end_time": "2024-07-23T18:22:53.309114",
     "exception": false,
     "start_time": "2024-07-23T18:22:53.262762",
     "status": "completed"
    },
    "tags": []
   },
   "outputs": [
    {
     "data": {
      "text/html": [
       "<div>\n",
       "<style scoped>\n",
       "    .dataframe tbody tr th:only-of-type {\n",
       "        vertical-align: middle;\n",
       "    }\n",
       "\n",
       "    .dataframe tbody tr th {\n",
       "        vertical-align: top;\n",
       "    }\n",
       "\n",
       "    .dataframe thead th {\n",
       "        text-align: right;\n",
       "    }\n",
       "</style>\n",
       "<table border=\"1\" class=\"dataframe\">\n",
       "  <thead>\n",
       "    <tr style=\"text-align: right;\">\n",
       "      <th></th>\n",
       "      <th>price</th>\n",
       "      <th>area</th>\n",
       "      <th>bedrooms</th>\n",
       "      <th>bathrooms</th>\n",
       "      <th>stories</th>\n",
       "      <th>mainroad</th>\n",
       "      <th>guestroom</th>\n",
       "      <th>basement</th>\n",
       "      <th>hotwaterheating</th>\n",
       "      <th>airconditioning</th>\n",
       "      <th>parking</th>\n",
       "      <th>prefarea</th>\n",
       "      <th>furnishingstatus</th>\n",
       "    </tr>\n",
       "  </thead>\n",
       "  <tbody>\n",
       "    <tr>\n",
       "      <th>0</th>\n",
       "      <td>13300000</td>\n",
       "      <td>7420</td>\n",
       "      <td>4</td>\n",
       "      <td>2</td>\n",
       "      <td>3</td>\n",
       "      <td>1</td>\n",
       "      <td>0</td>\n",
       "      <td>0</td>\n",
       "      <td>0</td>\n",
       "      <td>1</td>\n",
       "      <td>2</td>\n",
       "      <td>1</td>\n",
       "      <td>0</td>\n",
       "    </tr>\n",
       "    <tr>\n",
       "      <th>1</th>\n",
       "      <td>12250000</td>\n",
       "      <td>8960</td>\n",
       "      <td>4</td>\n",
       "      <td>4</td>\n",
       "      <td>4</td>\n",
       "      <td>1</td>\n",
       "      <td>0</td>\n",
       "      <td>0</td>\n",
       "      <td>0</td>\n",
       "      <td>1</td>\n",
       "      <td>3</td>\n",
       "      <td>0</td>\n",
       "      <td>0</td>\n",
       "    </tr>\n",
       "    <tr>\n",
       "      <th>2</th>\n",
       "      <td>12250000</td>\n",
       "      <td>9960</td>\n",
       "      <td>3</td>\n",
       "      <td>2</td>\n",
       "      <td>2</td>\n",
       "      <td>1</td>\n",
       "      <td>0</td>\n",
       "      <td>1</td>\n",
       "      <td>0</td>\n",
       "      <td>0</td>\n",
       "      <td>2</td>\n",
       "      <td>1</td>\n",
       "      <td>1</td>\n",
       "    </tr>\n",
       "  </tbody>\n",
       "</table>\n",
       "</div>"
      ],
      "text/plain": [
       "      price  area  bedrooms  bathrooms  stories  mainroad  guestroom  \\\n",
       "0  13300000  7420         4          2        3         1          0   \n",
       "1  12250000  8960         4          4        4         1          0   \n",
       "2  12250000  9960         3          2        2         1          0   \n",
       "\n",
       "   basement  hotwaterheating  airconditioning  parking  prefarea  \\\n",
       "0         0                0                1        2         1   \n",
       "1         0                0                1        3         0   \n",
       "2         1                0                0        2         1   \n",
       "\n",
       "   furnishingstatus  \n",
       "0                 0  \n",
       "1                 0  \n",
       "2                 1  "
      ]
     },
     "execution_count": 7,
     "metadata": {},
     "output_type": "execute_result"
    }
   ],
   "source": [
    "df[\"mainroad\"] = LabelEncoder().fit_transform(df[\"mainroad\"])\n",
    "df[\"guestroom\"] = LabelEncoder().fit_transform(df[\"guestroom\"])\n",
    "df[\"basement\"] = LabelEncoder().fit_transform(df[\"basement\"])\n",
    "df[\"hotwaterheating\"] = LabelEncoder().fit_transform(df[\"hotwaterheating\"])\n",
    "df[\"airconditioning\"] = LabelEncoder().fit_transform(df[\"airconditioning\"])\n",
    "df[\"prefarea\"] = LabelEncoder().fit_transform(df[\"prefarea\"])\n",
    "df[\"furnishingstatus\"] = LabelEncoder().fit_transform(df[\"furnishingstatus\"])\n",
    "df.head(3)"
   ]
  },
  {
   "cell_type": "markdown",
   "id": "92ac3dfa",
   "metadata": {
    "papermill": {
     "duration": 0.019421,
     "end_time": "2024-07-23T18:22:53.346837",
     "exception": false,
     "start_time": "2024-07-23T18:22:53.327416",
     "status": "completed"
    },
    "tags": []
   },
   "source": [
    "### We want numbers in our dataframe so that we could pass it to models:"
   ]
  },
  {
   "cell_type": "code",
   "execution_count": 8,
   "id": "0cb6eb2e",
   "metadata": {
    "execution": {
     "iopub.execute_input": "2024-07-23T18:22:53.385775Z",
     "iopub.status.busy": "2024-07-23T18:22:53.385357Z",
     "iopub.status.idle": "2024-07-23T18:22:53.400180Z",
     "shell.execute_reply": "2024-07-23T18:22:53.399084Z"
    },
    "papermill": {
     "duration": 0.037501,
     "end_time": "2024-07-23T18:22:53.402870",
     "exception": false,
     "start_time": "2024-07-23T18:22:53.365369",
     "status": "completed"
    },
    "tags": []
   },
   "outputs": [
    {
     "data": {
      "text/html": [
       "<div>\n",
       "<style scoped>\n",
       "    .dataframe tbody tr th:only-of-type {\n",
       "        vertical-align: middle;\n",
       "    }\n",
       "\n",
       "    .dataframe tbody tr th {\n",
       "        vertical-align: top;\n",
       "    }\n",
       "\n",
       "    .dataframe thead th {\n",
       "        text-align: right;\n",
       "    }\n",
       "</style>\n",
       "<table border=\"1\" class=\"dataframe\">\n",
       "  <thead>\n",
       "    <tr style=\"text-align: right;\">\n",
       "      <th></th>\n",
       "      <th>price</th>\n",
       "      <th>area</th>\n",
       "      <th>bedrooms</th>\n",
       "      <th>bathrooms</th>\n",
       "      <th>stories</th>\n",
       "      <th>mainroad</th>\n",
       "      <th>guestroom</th>\n",
       "      <th>basement</th>\n",
       "      <th>hotwaterheating</th>\n",
       "      <th>airconditioning</th>\n",
       "      <th>parking</th>\n",
       "      <th>prefarea</th>\n",
       "      <th>furnishingstatus</th>\n",
       "    </tr>\n",
       "  </thead>\n",
       "  <tbody>\n",
       "  </tbody>\n",
       "</table>\n",
       "</div>"
      ],
      "text/plain": [
       "Empty DataFrame\n",
       "Columns: [price, area, bedrooms, bathrooms, stories, mainroad, guestroom, basement, hotwaterheating, airconditioning, parking, prefarea, furnishingstatus]\n",
       "Index: []"
      ]
     },
     "execution_count": 8,
     "metadata": {},
     "output_type": "execute_result"
    }
   ],
   "source": [
    "negative_rows =  df[(df < 0).any(axis=1)]\n",
    "negative_rows"
   ]
  },
  {
   "cell_type": "code",
   "execution_count": 9,
   "id": "048d414b",
   "metadata": {
    "execution": {
     "iopub.execute_input": "2024-07-23T18:22:53.442784Z",
     "iopub.status.busy": "2024-07-23T18:22:53.442346Z",
     "iopub.status.idle": "2024-07-23T18:22:53.451443Z",
     "shell.execute_reply": "2024-07-23T18:22:53.450336Z"
    },
    "papermill": {
     "duration": 0.03265,
     "end_time": "2024-07-23T18:22:53.454134",
     "exception": false,
     "start_time": "2024-07-23T18:22:53.421484",
     "status": "completed"
    },
    "tags": []
   },
   "outputs": [
    {
     "data": {
      "text/plain": [
       "price               int64\n",
       "area                int64\n",
       "bedrooms            int64\n",
       "bathrooms           int64\n",
       "stories             int64\n",
       "mainroad            int64\n",
       "guestroom           int64\n",
       "basement            int64\n",
       "hotwaterheating     int64\n",
       "airconditioning     int64\n",
       "parking             int64\n",
       "prefarea            int64\n",
       "furnishingstatus    int64\n",
       "dtype: object"
      ]
     },
     "execution_count": 9,
     "metadata": {},
     "output_type": "execute_result"
    }
   ],
   "source": [
    "df.dtypes"
   ]
  },
  {
   "cell_type": "markdown",
   "id": "0a453272",
   "metadata": {
    "papermill": {
     "duration": 0.019388,
     "end_time": "2024-07-23T18:22:53.492681",
     "exception": false,
     "start_time": "2024-07-23T18:22:53.473293",
     "status": "completed"
    },
    "tags": []
   },
   "source": [
    "### We could see the mean value for columns to have a better understanding of the dataframe:"
   ]
  },
  {
   "cell_type": "code",
   "execution_count": 10,
   "id": "c9261b25",
   "metadata": {
    "execution": {
     "iopub.execute_input": "2024-07-23T18:22:53.539903Z",
     "iopub.status.busy": "2024-07-23T18:22:53.539387Z",
     "iopub.status.idle": "2024-07-23T18:22:53.601359Z",
     "shell.execute_reply": "2024-07-23T18:22:53.600199Z"
    },
    "papermill": {
     "duration": 0.092195,
     "end_time": "2024-07-23T18:22:53.604468",
     "exception": false,
     "start_time": "2024-07-23T18:22:53.512273",
     "status": "completed"
    },
    "tags": []
   },
   "outputs": [
    {
     "data": {
      "text/html": [
       "<div>\n",
       "<style scoped>\n",
       "    .dataframe tbody tr th:only-of-type {\n",
       "        vertical-align: middle;\n",
       "    }\n",
       "\n",
       "    .dataframe tbody tr th {\n",
       "        vertical-align: top;\n",
       "    }\n",
       "\n",
       "    .dataframe thead th {\n",
       "        text-align: right;\n",
       "    }\n",
       "</style>\n",
       "<table border=\"1\" class=\"dataframe\">\n",
       "  <thead>\n",
       "    <tr style=\"text-align: right;\">\n",
       "      <th></th>\n",
       "      <th>price</th>\n",
       "      <th>area</th>\n",
       "      <th>bedrooms</th>\n",
       "      <th>bathrooms</th>\n",
       "      <th>stories</th>\n",
       "      <th>mainroad</th>\n",
       "      <th>guestroom</th>\n",
       "      <th>basement</th>\n",
       "      <th>hotwaterheating</th>\n",
       "      <th>airconditioning</th>\n",
       "      <th>parking</th>\n",
       "      <th>prefarea</th>\n",
       "      <th>furnishingstatus</th>\n",
       "    </tr>\n",
       "  </thead>\n",
       "  <tbody>\n",
       "    <tr>\n",
       "      <th>count</th>\n",
       "      <td>5.450000e+02</td>\n",
       "      <td>545.000000</td>\n",
       "      <td>545.000000</td>\n",
       "      <td>545.000000</td>\n",
       "      <td>545.000000</td>\n",
       "      <td>545.000000</td>\n",
       "      <td>545.000000</td>\n",
       "      <td>545.000000</td>\n",
       "      <td>545.000000</td>\n",
       "      <td>545.000000</td>\n",
       "      <td>545.000000</td>\n",
       "      <td>545.000000</td>\n",
       "      <td>545.000000</td>\n",
       "    </tr>\n",
       "    <tr>\n",
       "      <th>mean</th>\n",
       "      <td>4.766729e+06</td>\n",
       "      <td>5150.541284</td>\n",
       "      <td>2.965138</td>\n",
       "      <td>1.286239</td>\n",
       "      <td>1.805505</td>\n",
       "      <td>0.858716</td>\n",
       "      <td>0.177982</td>\n",
       "      <td>0.350459</td>\n",
       "      <td>0.045872</td>\n",
       "      <td>0.315596</td>\n",
       "      <td>0.693578</td>\n",
       "      <td>0.234862</td>\n",
       "      <td>1.069725</td>\n",
       "    </tr>\n",
       "    <tr>\n",
       "      <th>std</th>\n",
       "      <td>1.870440e+06</td>\n",
       "      <td>2170.141023</td>\n",
       "      <td>0.738064</td>\n",
       "      <td>0.502470</td>\n",
       "      <td>0.867492</td>\n",
       "      <td>0.348635</td>\n",
       "      <td>0.382849</td>\n",
       "      <td>0.477552</td>\n",
       "      <td>0.209399</td>\n",
       "      <td>0.465180</td>\n",
       "      <td>0.861586</td>\n",
       "      <td>0.424302</td>\n",
       "      <td>0.761373</td>\n",
       "    </tr>\n",
       "    <tr>\n",
       "      <th>min</th>\n",
       "      <td>1.750000e+06</td>\n",
       "      <td>1650.000000</td>\n",
       "      <td>1.000000</td>\n",
       "      <td>1.000000</td>\n",
       "      <td>1.000000</td>\n",
       "      <td>0.000000</td>\n",
       "      <td>0.000000</td>\n",
       "      <td>0.000000</td>\n",
       "      <td>0.000000</td>\n",
       "      <td>0.000000</td>\n",
       "      <td>0.000000</td>\n",
       "      <td>0.000000</td>\n",
       "      <td>0.000000</td>\n",
       "    </tr>\n",
       "    <tr>\n",
       "      <th>25%</th>\n",
       "      <td>3.430000e+06</td>\n",
       "      <td>3600.000000</td>\n",
       "      <td>2.000000</td>\n",
       "      <td>1.000000</td>\n",
       "      <td>1.000000</td>\n",
       "      <td>1.000000</td>\n",
       "      <td>0.000000</td>\n",
       "      <td>0.000000</td>\n",
       "      <td>0.000000</td>\n",
       "      <td>0.000000</td>\n",
       "      <td>0.000000</td>\n",
       "      <td>0.000000</td>\n",
       "      <td>0.000000</td>\n",
       "    </tr>\n",
       "    <tr>\n",
       "      <th>50%</th>\n",
       "      <td>4.340000e+06</td>\n",
       "      <td>4600.000000</td>\n",
       "      <td>3.000000</td>\n",
       "      <td>1.000000</td>\n",
       "      <td>2.000000</td>\n",
       "      <td>1.000000</td>\n",
       "      <td>0.000000</td>\n",
       "      <td>0.000000</td>\n",
       "      <td>0.000000</td>\n",
       "      <td>0.000000</td>\n",
       "      <td>0.000000</td>\n",
       "      <td>0.000000</td>\n",
       "      <td>1.000000</td>\n",
       "    </tr>\n",
       "    <tr>\n",
       "      <th>75%</th>\n",
       "      <td>5.740000e+06</td>\n",
       "      <td>6360.000000</td>\n",
       "      <td>3.000000</td>\n",
       "      <td>2.000000</td>\n",
       "      <td>2.000000</td>\n",
       "      <td>1.000000</td>\n",
       "      <td>0.000000</td>\n",
       "      <td>1.000000</td>\n",
       "      <td>0.000000</td>\n",
       "      <td>1.000000</td>\n",
       "      <td>1.000000</td>\n",
       "      <td>0.000000</td>\n",
       "      <td>2.000000</td>\n",
       "    </tr>\n",
       "    <tr>\n",
       "      <th>max</th>\n",
       "      <td>1.330000e+07</td>\n",
       "      <td>16200.000000</td>\n",
       "      <td>6.000000</td>\n",
       "      <td>4.000000</td>\n",
       "      <td>4.000000</td>\n",
       "      <td>1.000000</td>\n",
       "      <td>1.000000</td>\n",
       "      <td>1.000000</td>\n",
       "      <td>1.000000</td>\n",
       "      <td>1.000000</td>\n",
       "      <td>3.000000</td>\n",
       "      <td>1.000000</td>\n",
       "      <td>2.000000</td>\n",
       "    </tr>\n",
       "  </tbody>\n",
       "</table>\n",
       "</div>"
      ],
      "text/plain": [
       "              price          area    bedrooms   bathrooms     stories  \\\n",
       "count  5.450000e+02    545.000000  545.000000  545.000000  545.000000   \n",
       "mean   4.766729e+06   5150.541284    2.965138    1.286239    1.805505   \n",
       "std    1.870440e+06   2170.141023    0.738064    0.502470    0.867492   \n",
       "min    1.750000e+06   1650.000000    1.000000    1.000000    1.000000   \n",
       "25%    3.430000e+06   3600.000000    2.000000    1.000000    1.000000   \n",
       "50%    4.340000e+06   4600.000000    3.000000    1.000000    2.000000   \n",
       "75%    5.740000e+06   6360.000000    3.000000    2.000000    2.000000   \n",
       "max    1.330000e+07  16200.000000    6.000000    4.000000    4.000000   \n",
       "\n",
       "         mainroad   guestroom    basement  hotwaterheating  airconditioning  \\\n",
       "count  545.000000  545.000000  545.000000       545.000000       545.000000   \n",
       "mean     0.858716    0.177982    0.350459         0.045872         0.315596   \n",
       "std      0.348635    0.382849    0.477552         0.209399         0.465180   \n",
       "min      0.000000    0.000000    0.000000         0.000000         0.000000   \n",
       "25%      1.000000    0.000000    0.000000         0.000000         0.000000   \n",
       "50%      1.000000    0.000000    0.000000         0.000000         0.000000   \n",
       "75%      1.000000    0.000000    1.000000         0.000000         1.000000   \n",
       "max      1.000000    1.000000    1.000000         1.000000         1.000000   \n",
       "\n",
       "          parking    prefarea  furnishingstatus  \n",
       "count  545.000000  545.000000        545.000000  \n",
       "mean     0.693578    0.234862          1.069725  \n",
       "std      0.861586    0.424302          0.761373  \n",
       "min      0.000000    0.000000          0.000000  \n",
       "25%      0.000000    0.000000          0.000000  \n",
       "50%      0.000000    0.000000          1.000000  \n",
       "75%      1.000000    0.000000          2.000000  \n",
       "max      3.000000    1.000000          2.000000  "
      ]
     },
     "execution_count": 10,
     "metadata": {},
     "output_type": "execute_result"
    }
   ],
   "source": [
    "df.describe()"
   ]
  },
  {
   "cell_type": "markdown",
   "id": "11a5e718",
   "metadata": {
    "papermill": {
     "duration": 0.019039,
     "end_time": "2024-07-23T18:22:53.643772",
     "exception": false,
     "start_time": "2024-07-23T18:22:53.624733",
     "status": "completed"
    },
    "tags": []
   },
   "source": [
    "### Let's take a look at houses with most greatest number of bedrooms sorted by their price:"
   ]
  },
  {
   "cell_type": "code",
   "execution_count": 11,
   "id": "bbe9d88a",
   "metadata": {
    "execution": {
     "iopub.execute_input": "2024-07-23T18:22:53.689949Z",
     "iopub.status.busy": "2024-07-23T18:22:53.689550Z",
     "iopub.status.idle": "2024-07-23T18:22:53.712826Z",
     "shell.execute_reply": "2024-07-23T18:22:53.711222Z"
    },
    "papermill": {
     "duration": 0.05231,
     "end_time": "2024-07-23T18:22:53.715448",
     "exception": false,
     "start_time": "2024-07-23T18:22:53.663138",
     "status": "completed"
    },
    "tags": []
   },
   "outputs": [
    {
     "data": {
      "text/html": [
       "<div>\n",
       "<style scoped>\n",
       "    .dataframe tbody tr th:only-of-type {\n",
       "        vertical-align: middle;\n",
       "    }\n",
       "\n",
       "    .dataframe tbody tr th {\n",
       "        vertical-align: top;\n",
       "    }\n",
       "\n",
       "    .dataframe thead th {\n",
       "        text-align: right;\n",
       "    }\n",
       "</style>\n",
       "<table border=\"1\" class=\"dataframe\">\n",
       "  <thead>\n",
       "    <tr style=\"text-align: right;\">\n",
       "      <th></th>\n",
       "      <th>price</th>\n",
       "      <th>area</th>\n",
       "      <th>bedrooms</th>\n",
       "      <th>bathrooms</th>\n",
       "      <th>stories</th>\n",
       "      <th>mainroad</th>\n",
       "      <th>guestroom</th>\n",
       "      <th>basement</th>\n",
       "      <th>hotwaterheating</th>\n",
       "      <th>airconditioning</th>\n",
       "      <th>parking</th>\n",
       "      <th>prefarea</th>\n",
       "      <th>furnishingstatus</th>\n",
       "    </tr>\n",
       "  </thead>\n",
       "  <tbody>\n",
       "    <tr>\n",
       "      <th>112</th>\n",
       "      <td>6083000</td>\n",
       "      <td>4300</td>\n",
       "      <td>6</td>\n",
       "      <td>2</td>\n",
       "      <td>2</td>\n",
       "      <td>1</td>\n",
       "      <td>0</td>\n",
       "      <td>0</td>\n",
       "      <td>0</td>\n",
       "      <td>0</td>\n",
       "      <td>0</td>\n",
       "      <td>0</td>\n",
       "      <td>0</td>\n",
       "    </tr>\n",
       "    <tr>\n",
       "      <th>395</th>\n",
       "      <td>3500000</td>\n",
       "      <td>3600</td>\n",
       "      <td>6</td>\n",
       "      <td>1</td>\n",
       "      <td>2</td>\n",
       "      <td>1</td>\n",
       "      <td>0</td>\n",
       "      <td>0</td>\n",
       "      <td>0</td>\n",
       "      <td>0</td>\n",
       "      <td>1</td>\n",
       "      <td>0</td>\n",
       "      <td>2</td>\n",
       "    </tr>\n",
       "    <tr>\n",
       "      <th>7</th>\n",
       "      <td>10150000</td>\n",
       "      <td>16200</td>\n",
       "      <td>5</td>\n",
       "      <td>3</td>\n",
       "      <td>2</td>\n",
       "      <td>1</td>\n",
       "      <td>0</td>\n",
       "      <td>0</td>\n",
       "      <td>0</td>\n",
       "      <td>0</td>\n",
       "      <td>0</td>\n",
       "      <td>0</td>\n",
       "      <td>2</td>\n",
       "    </tr>\n",
       "    <tr>\n",
       "      <th>28</th>\n",
       "      <td>8400000</td>\n",
       "      <td>7950</td>\n",
       "      <td>5</td>\n",
       "      <td>2</td>\n",
       "      <td>2</td>\n",
       "      <td>1</td>\n",
       "      <td>0</td>\n",
       "      <td>1</td>\n",
       "      <td>1</td>\n",
       "      <td>0</td>\n",
       "      <td>2</td>\n",
       "      <td>0</td>\n",
       "      <td>2</td>\n",
       "    </tr>\n",
       "    <tr>\n",
       "      <th>34</th>\n",
       "      <td>8120000</td>\n",
       "      <td>6840</td>\n",
       "      <td>5</td>\n",
       "      <td>1</td>\n",
       "      <td>2</td>\n",
       "      <td>1</td>\n",
       "      <td>1</td>\n",
       "      <td>1</td>\n",
       "      <td>0</td>\n",
       "      <td>1</td>\n",
       "      <td>1</td>\n",
       "      <td>0</td>\n",
       "      <td>0</td>\n",
       "    </tr>\n",
       "  </tbody>\n",
       "</table>\n",
       "</div>"
      ],
      "text/plain": [
       "        price   area  bedrooms  bathrooms  stories  mainroad  guestroom  \\\n",
       "112   6083000   4300         6          2        2         1          0   \n",
       "395   3500000   3600         6          1        2         1          0   \n",
       "7    10150000  16200         5          3        2         1          0   \n",
       "28    8400000   7950         5          2        2         1          0   \n",
       "34    8120000   6840         5          1        2         1          1   \n",
       "\n",
       "     basement  hotwaterheating  airconditioning  parking  prefarea  \\\n",
       "112         0                0                0        0         0   \n",
       "395         0                0                0        1         0   \n",
       "7           0                0                0        0         0   \n",
       "28          1                1                0        2         0   \n",
       "34          1                0                1        1         0   \n",
       "\n",
       "     furnishingstatus  \n",
       "112                 0  \n",
       "395                 2  \n",
       "7                   2  \n",
       "28                  2  \n",
       "34                  0  "
      ]
     },
     "execution_count": 11,
     "metadata": {},
     "output_type": "execute_result"
    }
   ],
   "source": [
    "df.sort_values(by=[\"bedrooms\",\"price\"], ascending = False).head(5)"
   ]
  },
  {
   "cell_type": "markdown",
   "id": "f7190867",
   "metadata": {
    "papermill": {
     "duration": 0.021546,
     "end_time": "2024-07-23T18:22:53.834836",
     "exception": false,
     "start_time": "2024-07-23T18:22:53.813290",
     "status": "completed"
    },
    "tags": []
   },
   "source": [
    "### Now let's see information about the very expensive houses which cost more than 8,000,000:"
   ]
  },
  {
   "cell_type": "code",
   "execution_count": 12,
   "id": "15b92a92",
   "metadata": {
    "execution": {
     "iopub.execute_input": "2024-07-23T18:22:53.883024Z",
     "iopub.status.busy": "2024-07-23T18:22:53.881598Z",
     "iopub.status.idle": "2024-07-23T18:22:53.906064Z",
     "shell.execute_reply": "2024-07-23T18:22:53.902135Z"
    },
    "papermill": {
     "duration": 0.050412,
     "end_time": "2024-07-23T18:22:53.910307",
     "exception": false,
     "start_time": "2024-07-23T18:22:53.859895",
     "status": "completed"
    },
    "tags": []
   },
   "outputs": [
    {
     "data": {
      "text/html": [
       "<div>\n",
       "<style scoped>\n",
       "    .dataframe tbody tr th:only-of-type {\n",
       "        vertical-align: middle;\n",
       "    }\n",
       "\n",
       "    .dataframe tbody tr th {\n",
       "        vertical-align: top;\n",
       "    }\n",
       "\n",
       "    .dataframe thead th {\n",
       "        text-align: right;\n",
       "    }\n",
       "</style>\n",
       "<table border=\"1\" class=\"dataframe\">\n",
       "  <thead>\n",
       "    <tr style=\"text-align: right;\">\n",
       "      <th></th>\n",
       "      <th>price</th>\n",
       "      <th>area</th>\n",
       "      <th>bedrooms</th>\n",
       "      <th>bathrooms</th>\n",
       "      <th>stories</th>\n",
       "      <th>mainroad</th>\n",
       "      <th>guestroom</th>\n",
       "      <th>basement</th>\n",
       "      <th>hotwaterheating</th>\n",
       "      <th>airconditioning</th>\n",
       "      <th>parking</th>\n",
       "      <th>prefarea</th>\n",
       "      <th>furnishingstatus</th>\n",
       "    </tr>\n",
       "  </thead>\n",
       "  <tbody>\n",
       "    <tr>\n",
       "      <th>0</th>\n",
       "      <td>13300000</td>\n",
       "      <td>7420</td>\n",
       "      <td>4</td>\n",
       "      <td>2</td>\n",
       "      <td>3</td>\n",
       "      <td>1</td>\n",
       "      <td>0</td>\n",
       "      <td>0</td>\n",
       "      <td>0</td>\n",
       "      <td>1</td>\n",
       "      <td>2</td>\n",
       "      <td>1</td>\n",
       "      <td>0</td>\n",
       "    </tr>\n",
       "    <tr>\n",
       "      <th>2</th>\n",
       "      <td>12250000</td>\n",
       "      <td>9960</td>\n",
       "      <td>3</td>\n",
       "      <td>2</td>\n",
       "      <td>2</td>\n",
       "      <td>1</td>\n",
       "      <td>0</td>\n",
       "      <td>1</td>\n",
       "      <td>0</td>\n",
       "      <td>0</td>\n",
       "      <td>2</td>\n",
       "      <td>1</td>\n",
       "      <td>1</td>\n",
       "    </tr>\n",
       "    <tr>\n",
       "      <th>1</th>\n",
       "      <td>12250000</td>\n",
       "      <td>8960</td>\n",
       "      <td>4</td>\n",
       "      <td>4</td>\n",
       "      <td>4</td>\n",
       "      <td>1</td>\n",
       "      <td>0</td>\n",
       "      <td>0</td>\n",
       "      <td>0</td>\n",
       "      <td>1</td>\n",
       "      <td>3</td>\n",
       "      <td>0</td>\n",
       "      <td>0</td>\n",
       "    </tr>\n",
       "    <tr>\n",
       "      <th>3</th>\n",
       "      <td>12215000</td>\n",
       "      <td>7500</td>\n",
       "      <td>4</td>\n",
       "      <td>2</td>\n",
       "      <td>2</td>\n",
       "      <td>1</td>\n",
       "      <td>0</td>\n",
       "      <td>1</td>\n",
       "      <td>0</td>\n",
       "      <td>1</td>\n",
       "      <td>3</td>\n",
       "      <td>1</td>\n",
       "      <td>0</td>\n",
       "    </tr>\n",
       "    <tr>\n",
       "      <th>4</th>\n",
       "      <td>11410000</td>\n",
       "      <td>7420</td>\n",
       "      <td>4</td>\n",
       "      <td>1</td>\n",
       "      <td>2</td>\n",
       "      <td>1</td>\n",
       "      <td>1</td>\n",
       "      <td>1</td>\n",
       "      <td>0</td>\n",
       "      <td>1</td>\n",
       "      <td>2</td>\n",
       "      <td>0</td>\n",
       "      <td>0</td>\n",
       "    </tr>\n",
       "  </tbody>\n",
       "</table>\n",
       "</div>"
      ],
      "text/plain": [
       "      price  area  bedrooms  bathrooms  stories  mainroad  guestroom  \\\n",
       "0  13300000  7420         4          2        3         1          0   \n",
       "2  12250000  9960         3          2        2         1          0   \n",
       "1  12250000  8960         4          4        4         1          0   \n",
       "3  12215000  7500         4          2        2         1          0   \n",
       "4  11410000  7420         4          1        2         1          1   \n",
       "\n",
       "   basement  hotwaterheating  airconditioning  parking  prefarea  \\\n",
       "0         0                0                1        2         1   \n",
       "2         1                0                0        2         1   \n",
       "1         0                0                1        3         0   \n",
       "3         1                0                1        3         1   \n",
       "4         1                0                1        2         0   \n",
       "\n",
       "   furnishingstatus  \n",
       "0                 0  \n",
       "2                 1  \n",
       "1                 0  \n",
       "3                 0  \n",
       "4                 0  "
      ]
     },
     "execution_count": 12,
     "metadata": {},
     "output_type": "execute_result"
    }
   ],
   "source": [
    "df[df[\"price\"]>8000000].sort_values(by=\"price\", ascending=False).head(5)"
   ]
  },
  {
   "cell_type": "code",
   "execution_count": 13,
   "id": "c1db9fa5",
   "metadata": {
    "execution": {
     "iopub.execute_input": "2024-07-23T18:22:53.961092Z",
     "iopub.status.busy": "2024-07-23T18:22:53.959664Z",
     "iopub.status.idle": "2024-07-23T18:22:53.972613Z",
     "shell.execute_reply": "2024-07-23T18:22:53.971613Z"
    },
    "papermill": {
     "duration": 0.039017,
     "end_time": "2024-07-23T18:22:53.975553",
     "exception": false,
     "start_time": "2024-07-23T18:22:53.936536",
     "status": "completed"
    },
    "tags": []
   },
   "outputs": [],
   "source": [
    "y = df[\"price\"]\n",
    "x = df.drop(columns=[\"price\"])\n",
    "x_train, x_test, y_train, y_test = train_test_split(x, y , test_size=0.25, random_state=42)"
   ]
  },
  {
   "cell_type": "code",
   "execution_count": 14,
   "id": "f063d425",
   "metadata": {
    "execution": {
     "iopub.execute_input": "2024-07-23T18:22:54.017778Z",
     "iopub.status.busy": "2024-07-23T18:22:54.017351Z",
     "iopub.status.idle": "2024-07-23T18:22:54.025627Z",
     "shell.execute_reply": "2024-07-23T18:22:54.024287Z"
    },
    "papermill": {
     "duration": 0.032834,
     "end_time": "2024-07-23T18:22:54.028416",
     "exception": false,
     "start_time": "2024-07-23T18:22:53.995582",
     "status": "completed"
    },
    "tags": []
   },
   "outputs": [
    {
     "data": {
      "text/plain": [
       "Index([167, 368, 301, 527, 382, 235, 302, 460, 439,  19,\n",
       "       ...\n",
       "       330, 214, 466, 121,  20,  71, 106, 270, 435, 102],\n",
       "      dtype='int64', length=408)"
      ]
     },
     "execution_count": 14,
     "metadata": {},
     "output_type": "execute_result"
    }
   ],
   "source": [
    "x_train.index "
   ]
  },
  {
   "cell_type": "code",
   "execution_count": 15,
   "id": "6d17d1ba",
   "metadata": {
    "execution": {
     "iopub.execute_input": "2024-07-23T18:22:54.070951Z",
     "iopub.status.busy": "2024-07-23T18:22:54.070544Z",
     "iopub.status.idle": "2024-07-23T18:22:54.078745Z",
     "shell.execute_reply": "2024-07-23T18:22:54.077493Z"
    },
    "papermill": {
     "duration": 0.032471,
     "end_time": "2024-07-23T18:22:54.081394",
     "exception": false,
     "start_time": "2024-07-23T18:22:54.048923",
     "status": "completed"
    },
    "tags": []
   },
   "outputs": [
    {
     "data": {
      "text/plain": [
       "Index([167, 368, 301, 527, 382, 235, 302, 460, 439,  19,\n",
       "       ...\n",
       "       330, 214, 466, 121,  20,  71, 106, 270, 435, 102],\n",
       "      dtype='int64', length=408)"
      ]
     },
     "execution_count": 15,
     "metadata": {},
     "output_type": "execute_result"
    }
   ],
   "source": [
    "y_train.index"
   ]
  },
  {
   "cell_type": "markdown",
   "id": "a0213ac9",
   "metadata": {
    "papermill": {
     "duration": 0.02116,
     "end_time": "2024-07-23T18:22:54.123643",
     "exception": false,
     "start_time": "2024-07-23T18:22:54.102483",
     "status": "completed"
    },
    "tags": []
   },
   "source": [
    "## Ordinary least squares\n",
    "### Since there wasn't any negtaive value in dataframe, we tend to use non-negative least squares:"
   ]
  },
  {
   "cell_type": "code",
   "execution_count": 16,
   "id": "f4ea2f4b",
   "metadata": {
    "execution": {
     "iopub.execute_input": "2024-07-23T18:22:54.169710Z",
     "iopub.status.busy": "2024-07-23T18:22:54.169264Z",
     "iopub.status.idle": "2024-07-23T18:22:54.186598Z",
     "shell.execute_reply": "2024-07-23T18:22:54.185270Z"
    },
    "papermill": {
     "duration": 0.042938,
     "end_time": "2024-07-23T18:22:54.189465",
     "exception": false,
     "start_time": "2024-07-23T18:22:54.146527",
     "status": "completed"
    },
    "tags": []
   },
   "outputs": [
    {
     "name": "stdout",
     "output_type": "stream",
     "text": [
      "coef_: [2.41819292e+02 7.53196888e+04 1.13596170e+06 4.02368953e+05\n",
      " 4.14310535e+05 2.86937829e+05 4.41928701e+05 7.29493128e+05\n",
      " 7.91194905e+05 2.74806607e+05 6.40659347e+05 0.00000000e+00]\n",
      "intercept: -71632.62069035508\n"
     ]
    }
   ],
   "source": [
    "linear_regr = LinearRegression(positive=True)\n",
    "linear_regr.fit(x_train, y_train)\n",
    "print(\"coef_:\",linear_regr.coef_)\n",
    "print(\"intercept:\",linear_regr.intercept_)"
   ]
  },
  {
   "cell_type": "code",
   "execution_count": 17,
   "id": "52e9915c",
   "metadata": {
    "execution": {
     "iopub.execute_input": "2024-07-23T18:22:54.233410Z",
     "iopub.status.busy": "2024-07-23T18:22:54.232979Z",
     "iopub.status.idle": "2024-07-23T18:22:54.245277Z",
     "shell.execute_reply": "2024-07-23T18:22:54.244114Z"
    },
    "papermill": {
     "duration": 0.037206,
     "end_time": "2024-07-23T18:22:54.247838",
     "exception": false,
     "start_time": "2024-07-23T18:22:54.210632",
     "status": "completed"
    },
    "tags": []
   },
   "outputs": [
    {
     "data": {
      "text/html": [
       "<div>\n",
       "<style scoped>\n",
       "    .dataframe tbody tr th:only-of-type {\n",
       "        vertical-align: middle;\n",
       "    }\n",
       "\n",
       "    .dataframe tbody tr th {\n",
       "        vertical-align: top;\n",
       "    }\n",
       "\n",
       "    .dataframe thead th {\n",
       "        text-align: right;\n",
       "    }\n",
       "</style>\n",
       "<table border=\"1\" class=\"dataframe\">\n",
       "  <thead>\n",
       "    <tr style=\"text-align: right;\">\n",
       "      <th></th>\n",
       "      <th>0</th>\n",
       "    </tr>\n",
       "  </thead>\n",
       "  <tbody>\n",
       "    <tr>\n",
       "      <th>0</th>\n",
       "      <td>5449776</td>\n",
       "    </tr>\n",
       "    <tr>\n",
       "      <th>1</th>\n",
       "      <td>7051346</td>\n",
       "    </tr>\n",
       "    <tr>\n",
       "      <th>2</th>\n",
       "      <td>3008597</td>\n",
       "    </tr>\n",
       "  </tbody>\n",
       "</table>\n",
       "</div>"
      ],
      "text/plain": [
       "         0\n",
       "0  5449776\n",
       "1  7051346\n",
       "2  3008597"
      ]
     },
     "execution_count": 17,
     "metadata": {},
     "output_type": "execute_result"
    }
   ],
   "source": [
    "linear_regr_predictions = linear_regr.predict(x_test).astype(int)\n",
    "pd.DataFrame(linear_regr_predictions).head(3)"
   ]
  },
  {
   "cell_type": "code",
   "execution_count": 18,
   "id": "5af238ca",
   "metadata": {
    "execution": {
     "iopub.execute_input": "2024-07-23T18:22:54.290686Z",
     "iopub.status.busy": "2024-07-23T18:22:54.290290Z",
     "iopub.status.idle": "2024-07-23T18:22:54.298884Z",
     "shell.execute_reply": "2024-07-23T18:22:54.297550Z"
    },
    "papermill": {
     "duration": 0.03319,
     "end_time": "2024-07-23T18:22:54.301504",
     "exception": false,
     "start_time": "2024-07-23T18:22:54.268314",
     "status": "completed"
    },
    "tags": []
   },
   "outputs": [
    {
     "data": {
      "text/plain": [
       "316    4060000\n",
       "77     6650000\n",
       "360    3710000\n",
       "Name: price, dtype: int64"
      ]
     },
     "execution_count": 18,
     "metadata": {},
     "output_type": "execute_result"
    }
   ],
   "source": [
    "y_test.head(3)"
   ]
  },
  {
   "cell_type": "code",
   "execution_count": 19,
   "id": "da7523a3",
   "metadata": {
    "execution": {
     "iopub.execute_input": "2024-07-23T18:22:54.345969Z",
     "iopub.status.busy": "2024-07-23T18:22:54.345500Z",
     "iopub.status.idle": "2024-07-23T18:22:54.358747Z",
     "shell.execute_reply": "2024-07-23T18:22:54.357571Z"
    },
    "papermill": {
     "duration": 0.038313,
     "end_time": "2024-07-23T18:22:54.361553",
     "exception": false,
     "start_time": "2024-07-23T18:22:54.323240",
     "status": "completed"
    },
    "tags": []
   },
   "outputs": [
    {
     "name": "stdout",
     "output_type": "stream",
     "text": [
      "R2 score for train data is: 0.6769147452798607\n",
      "R2 score for test data is: 0.6549615837553933\n"
     ]
    }
   ],
   "source": [
    "least_squares_train_predictions = linear_regr.predict(x_train) \n",
    "least_squares_test_predictions = linear_regr.predict(x_test)\n",
    "print(\"R2 score for train data is:\",r2_score(y_train, least_squares_train_predictions))\n",
    "print(\"R2 score for test data is:\",r2_score(y_test, least_squares_test_predictions))"
   ]
  },
  {
   "cell_type": "markdown",
   "id": "f8b5b44d",
   "metadata": {
    "papermill": {
     "duration": 0.020927,
     "end_time": "2024-07-23T18:22:54.403954",
     "exception": false,
     "start_time": "2024-07-23T18:22:54.383027",
     "status": "completed"
    },
    "tags": []
   },
   "source": [
    "## Ridge regression:"
   ]
  },
  {
   "cell_type": "markdown",
   "id": "c1c834fb",
   "metadata": {
    "papermill": {
     "duration": 0.020751,
     "end_time": "2024-07-23T18:22:54.445700",
     "exception": false,
     "start_time": "2024-07-23T18:22:54.424949",
     "status": "completed"
    },
    "tags": []
   },
   "source": [
    "### Alphas with linspace(this works better for linear relations):"
   ]
  },
  {
   "cell_type": "code",
   "execution_count": 20,
   "id": "661ecaea",
   "metadata": {
    "execution": {
     "iopub.execute_input": "2024-07-23T18:22:54.489567Z",
     "iopub.status.busy": "2024-07-23T18:22:54.489158Z",
     "iopub.status.idle": "2024-07-23T18:22:54.549538Z",
     "shell.execute_reply": "2024-07-23T18:22:54.548327Z"
    },
    "papermill": {
     "duration": 0.085312,
     "end_time": "2024-07-23T18:22:54.552471",
     "exception": false,
     "start_time": "2024-07-23T18:22:54.467159",
     "status": "completed"
    },
    "tags": []
   },
   "outputs": [
    {
     "data": {
      "text/html": [
       "<style>#sk-container-id-1 {color: black;background-color: white;}#sk-container-id-1 pre{padding: 0;}#sk-container-id-1 div.sk-toggleable {background-color: white;}#sk-container-id-1 label.sk-toggleable__label {cursor: pointer;display: block;width: 100%;margin-bottom: 0;padding: 0.3em;box-sizing: border-box;text-align: center;}#sk-container-id-1 label.sk-toggleable__label-arrow:before {content: \"▸\";float: left;margin-right: 0.25em;color: #696969;}#sk-container-id-1 label.sk-toggleable__label-arrow:hover:before {color: black;}#sk-container-id-1 div.sk-estimator:hover label.sk-toggleable__label-arrow:before {color: black;}#sk-container-id-1 div.sk-toggleable__content {max-height: 0;max-width: 0;overflow: hidden;text-align: left;background-color: #f0f8ff;}#sk-container-id-1 div.sk-toggleable__content pre {margin: 0.2em;color: black;border-radius: 0.25em;background-color: #f0f8ff;}#sk-container-id-1 input.sk-toggleable__control:checked~div.sk-toggleable__content {max-height: 200px;max-width: 100%;overflow: auto;}#sk-container-id-1 input.sk-toggleable__control:checked~label.sk-toggleable__label-arrow:before {content: \"▾\";}#sk-container-id-1 div.sk-estimator input.sk-toggleable__control:checked~label.sk-toggleable__label {background-color: #d4ebff;}#sk-container-id-1 div.sk-label input.sk-toggleable__control:checked~label.sk-toggleable__label {background-color: #d4ebff;}#sk-container-id-1 input.sk-hidden--visually {border: 0;clip: rect(1px 1px 1px 1px);clip: rect(1px, 1px, 1px, 1px);height: 1px;margin: -1px;overflow: hidden;padding: 0;position: absolute;width: 1px;}#sk-container-id-1 div.sk-estimator {font-family: monospace;background-color: #f0f8ff;border: 1px dotted black;border-radius: 0.25em;box-sizing: border-box;margin-bottom: 0.5em;}#sk-container-id-1 div.sk-estimator:hover {background-color: #d4ebff;}#sk-container-id-1 div.sk-parallel-item::after {content: \"\";width: 100%;border-bottom: 1px solid gray;flex-grow: 1;}#sk-container-id-1 div.sk-label:hover label.sk-toggleable__label {background-color: #d4ebff;}#sk-container-id-1 div.sk-serial::before {content: \"\";position: absolute;border-left: 1px solid gray;box-sizing: border-box;top: 0;bottom: 0;left: 50%;z-index: 0;}#sk-container-id-1 div.sk-serial {display: flex;flex-direction: column;align-items: center;background-color: white;padding-right: 0.2em;padding-left: 0.2em;position: relative;}#sk-container-id-1 div.sk-item {position: relative;z-index: 1;}#sk-container-id-1 div.sk-parallel {display: flex;align-items: stretch;justify-content: center;background-color: white;position: relative;}#sk-container-id-1 div.sk-item::before, #sk-container-id-1 div.sk-parallel-item::before {content: \"\";position: absolute;border-left: 1px solid gray;box-sizing: border-box;top: 0;bottom: 0;left: 50%;z-index: -1;}#sk-container-id-1 div.sk-parallel-item {display: flex;flex-direction: column;z-index: 1;position: relative;background-color: white;}#sk-container-id-1 div.sk-parallel-item:first-child::after {align-self: flex-end;width: 50%;}#sk-container-id-1 div.sk-parallel-item:last-child::after {align-self: flex-start;width: 50%;}#sk-container-id-1 div.sk-parallel-item:only-child::after {width: 0;}#sk-container-id-1 div.sk-dashed-wrapped {border: 1px dashed gray;margin: 0 0.4em 0.5em 0.4em;box-sizing: border-box;padding-bottom: 0.4em;background-color: white;}#sk-container-id-1 div.sk-label label {font-family: monospace;font-weight: bold;display: inline-block;line-height: 1.2em;}#sk-container-id-1 div.sk-label-container {text-align: center;}#sk-container-id-1 div.sk-container {/* jupyter's `normalize.less` sets `[hidden] { display: none; }` but bootstrap.min.css set `[hidden] { display: none !important; }` so we also need the `!important` here to be able to override the default hidden behavior on the sphinx rendered scikit-learn.org. See: https://github.com/scikit-learn/scikit-learn/issues/21755 */display: inline-block !important;position: relative;}#sk-container-id-1 div.sk-text-repr-fallback {display: none;}</style><div id=\"sk-container-id-1\" class=\"sk-top-container\"><div class=\"sk-text-repr-fallback\"><pre>RidgeCV(alphas=array([ 0.1,  0.2,  0.3,  0.4,  0.5,  0.6,  0.7,  0.8,  0.9,  1. ,  1.1,\n",
       "        1.2,  1.3,  1.4,  1.5,  1.6,  1.7,  1.8,  1.9,  2. ,  2.1,  2.2,\n",
       "        2.3,  2.4,  2.5,  2.6,  2.7,  2.8,  2.9,  3. ,  3.1,  3.2,  3.3,\n",
       "        3.4,  3.5,  3.6,  3.7,  3.8,  3.9,  4. ,  4.1,  4.2,  4.3,  4.4,\n",
       "        4.5,  4.6,  4.7,  4.8,  4.9,  5. ,  5.1,  5.2,  5.3,  5.4,  5.5,\n",
       "        5.6,  5.7,  5.8,  5.9,  6. ,  6.1,  6.2,  6.3,  6.4,  6.5,  6.6,\n",
       "        6.7,  6.8,  6.9,  7. ,  7.1,  7.2,  7.3,  7.4,  7.5,  7.6,  7.7,\n",
       "        7.8,  7.9,  8. ,  8.1,  8.2,  8.3,  8.4,  8.5,  8.6,  8.7,  8.8,\n",
       "        8.9,  9. ,  9.1,  9.2,  9.3,  9.4,  9.5,  9.6,  9.7,  9.8,  9.9,\n",
       "       10. ]),\n",
       "        store_cv_values=True)</pre><b>In a Jupyter environment, please rerun this cell to show the HTML representation or trust the notebook. <br />On GitHub, the HTML representation is unable to render, please try loading this page with nbviewer.org.</b></div><div class=\"sk-container\" hidden><div class=\"sk-item\"><div class=\"sk-estimator sk-toggleable\"><input class=\"sk-toggleable__control sk-hidden--visually\" id=\"sk-estimator-id-1\" type=\"checkbox\" checked><label for=\"sk-estimator-id-1\" class=\"sk-toggleable__label sk-toggleable__label-arrow\">RidgeCV</label><div class=\"sk-toggleable__content\"><pre>RidgeCV(alphas=array([ 0.1,  0.2,  0.3,  0.4,  0.5,  0.6,  0.7,  0.8,  0.9,  1. ,  1.1,\n",
       "        1.2,  1.3,  1.4,  1.5,  1.6,  1.7,  1.8,  1.9,  2. ,  2.1,  2.2,\n",
       "        2.3,  2.4,  2.5,  2.6,  2.7,  2.8,  2.9,  3. ,  3.1,  3.2,  3.3,\n",
       "        3.4,  3.5,  3.6,  3.7,  3.8,  3.9,  4. ,  4.1,  4.2,  4.3,  4.4,\n",
       "        4.5,  4.6,  4.7,  4.8,  4.9,  5. ,  5.1,  5.2,  5.3,  5.4,  5.5,\n",
       "        5.6,  5.7,  5.8,  5.9,  6. ,  6.1,  6.2,  6.3,  6.4,  6.5,  6.6,\n",
       "        6.7,  6.8,  6.9,  7. ,  7.1,  7.2,  7.3,  7.4,  7.5,  7.6,  7.7,\n",
       "        7.8,  7.9,  8. ,  8.1,  8.2,  8.3,  8.4,  8.5,  8.6,  8.7,  8.8,\n",
       "        8.9,  9. ,  9.1,  9.2,  9.3,  9.4,  9.5,  9.6,  9.7,  9.8,  9.9,\n",
       "       10. ]),\n",
       "        store_cv_values=True)</pre></div></div></div></div></div>"
      ],
      "text/plain": [
       "RidgeCV(alphas=array([ 0.1,  0.2,  0.3,  0.4,  0.5,  0.6,  0.7,  0.8,  0.9,  1. ,  1.1,\n",
       "        1.2,  1.3,  1.4,  1.5,  1.6,  1.7,  1.8,  1.9,  2. ,  2.1,  2.2,\n",
       "        2.3,  2.4,  2.5,  2.6,  2.7,  2.8,  2.9,  3. ,  3.1,  3.2,  3.3,\n",
       "        3.4,  3.5,  3.6,  3.7,  3.8,  3.9,  4. ,  4.1,  4.2,  4.3,  4.4,\n",
       "        4.5,  4.6,  4.7,  4.8,  4.9,  5. ,  5.1,  5.2,  5.3,  5.4,  5.5,\n",
       "        5.6,  5.7,  5.8,  5.9,  6. ,  6.1,  6.2,  6.3,  6.4,  6.5,  6.6,\n",
       "        6.7,  6.8,  6.9,  7. ,  7.1,  7.2,  7.3,  7.4,  7.5,  7.6,  7.7,\n",
       "        7.8,  7.9,  8. ,  8.1,  8.2,  8.3,  8.4,  8.5,  8.6,  8.7,  8.8,\n",
       "        8.9,  9. ,  9.1,  9.2,  9.3,  9.4,  9.5,  9.6,  9.7,  9.8,  9.9,\n",
       "       10. ]),\n",
       "        store_cv_values=True)"
      ]
     },
     "execution_count": 20,
     "metadata": {},
     "output_type": "execute_result"
    }
   ],
   "source": [
    "alphas = np.linspace(0.1, 10, 100)\n",
    "ridge_cv = RidgeCV(alphas=alphas, store_cv_values=True)\n",
    "ridge_cv.fit(x_train, y_train)"
   ]
  },
  {
   "cell_type": "code",
   "execution_count": 21,
   "id": "44ea71d4",
   "metadata": {
    "execution": {
     "iopub.execute_input": "2024-07-23T18:22:54.599685Z",
     "iopub.status.busy": "2024-07-23T18:22:54.599261Z",
     "iopub.status.idle": "2024-07-23T18:22:54.611948Z",
     "shell.execute_reply": "2024-07-23T18:22:54.610461Z"
    },
    "papermill": {
     "duration": 0.038459,
     "end_time": "2024-07-23T18:22:54.614706",
     "exception": false,
     "start_time": "2024-07-23T18:22:54.576247",
     "status": "completed"
    },
    "tags": []
   },
   "outputs": [
    {
     "name": "stdout",
     "output_type": "stream",
     "text": [
      "R2 score for train data is: 0.683140671870996\n",
      "R2 score for test data is: 0.6598273442797289\n"
     ]
    }
   ],
   "source": [
    "ridge_train_predictions = ridge_cv.predict(x_train) \n",
    "ridge_test_predictions = ridge_cv.predict(x_test)\n",
    "print(\"R2 score for train data is:\",r2_score(y_train, ridge_train_predictions))\n",
    "print(\"R2 score for test data is:\",r2_score(y_test, ridge_test_predictions))"
   ]
  },
  {
   "cell_type": "code",
   "execution_count": 22,
   "id": "2b63fd0d",
   "metadata": {
    "execution": {
     "iopub.execute_input": "2024-07-23T18:22:54.660527Z",
     "iopub.status.busy": "2024-07-23T18:22:54.659214Z",
     "iopub.status.idle": "2024-07-23T18:22:54.667433Z",
     "shell.execute_reply": "2024-07-23T18:22:54.666302Z"
    },
    "papermill": {
     "duration": 0.033926,
     "end_time": "2024-07-23T18:22:54.669870",
     "exception": false,
     "start_time": "2024-07-23T18:22:54.635944",
     "status": "completed"
    },
    "tags": []
   },
   "outputs": [
    {
     "data": {
      "text/plain": [
       "4.7"
      ]
     },
     "execution_count": 22,
     "metadata": {},
     "output_type": "execute_result"
    }
   ],
   "source": [
    "best_alpha = ridge_cv.alpha_\n",
    "best_alpha"
   ]
  },
  {
   "cell_type": "markdown",
   "id": "c360d177",
   "metadata": {
    "papermill": {
     "duration": 0.021721,
     "end_time": "2024-07-23T18:22:54.713232",
     "exception": false,
     "start_time": "2024-07-23T18:22:54.691511",
     "status": "completed"
    },
    "tags": []
   },
   "source": [
    "### Alphas with logspace:"
   ]
  },
  {
   "cell_type": "code",
   "execution_count": 23,
   "id": "a912e91d",
   "metadata": {
    "execution": {
     "iopub.execute_input": "2024-07-23T18:22:54.758593Z",
     "iopub.status.busy": "2024-07-23T18:22:54.758152Z",
     "iopub.status.idle": "2024-07-23T18:22:54.804762Z",
     "shell.execute_reply": "2024-07-23T18:22:54.803556Z"
    },
    "papermill": {
     "duration": 0.072572,
     "end_time": "2024-07-23T18:22:54.807545",
     "exception": false,
     "start_time": "2024-07-23T18:22:54.734973",
     "status": "completed"
    },
    "tags": []
   },
   "outputs": [
    {
     "data": {
      "text/html": [
       "<style>#sk-container-id-2 {color: black;background-color: white;}#sk-container-id-2 pre{padding: 0;}#sk-container-id-2 div.sk-toggleable {background-color: white;}#sk-container-id-2 label.sk-toggleable__label {cursor: pointer;display: block;width: 100%;margin-bottom: 0;padding: 0.3em;box-sizing: border-box;text-align: center;}#sk-container-id-2 label.sk-toggleable__label-arrow:before {content: \"▸\";float: left;margin-right: 0.25em;color: #696969;}#sk-container-id-2 label.sk-toggleable__label-arrow:hover:before {color: black;}#sk-container-id-2 div.sk-estimator:hover label.sk-toggleable__label-arrow:before {color: black;}#sk-container-id-2 div.sk-toggleable__content {max-height: 0;max-width: 0;overflow: hidden;text-align: left;background-color: #f0f8ff;}#sk-container-id-2 div.sk-toggleable__content pre {margin: 0.2em;color: black;border-radius: 0.25em;background-color: #f0f8ff;}#sk-container-id-2 input.sk-toggleable__control:checked~div.sk-toggleable__content {max-height: 200px;max-width: 100%;overflow: auto;}#sk-container-id-2 input.sk-toggleable__control:checked~label.sk-toggleable__label-arrow:before {content: \"▾\";}#sk-container-id-2 div.sk-estimator input.sk-toggleable__control:checked~label.sk-toggleable__label {background-color: #d4ebff;}#sk-container-id-2 div.sk-label input.sk-toggleable__control:checked~label.sk-toggleable__label {background-color: #d4ebff;}#sk-container-id-2 input.sk-hidden--visually {border: 0;clip: rect(1px 1px 1px 1px);clip: rect(1px, 1px, 1px, 1px);height: 1px;margin: -1px;overflow: hidden;padding: 0;position: absolute;width: 1px;}#sk-container-id-2 div.sk-estimator {font-family: monospace;background-color: #f0f8ff;border: 1px dotted black;border-radius: 0.25em;box-sizing: border-box;margin-bottom: 0.5em;}#sk-container-id-2 div.sk-estimator:hover {background-color: #d4ebff;}#sk-container-id-2 div.sk-parallel-item::after {content: \"\";width: 100%;border-bottom: 1px solid gray;flex-grow: 1;}#sk-container-id-2 div.sk-label:hover label.sk-toggleable__label {background-color: #d4ebff;}#sk-container-id-2 div.sk-serial::before {content: \"\";position: absolute;border-left: 1px solid gray;box-sizing: border-box;top: 0;bottom: 0;left: 50%;z-index: 0;}#sk-container-id-2 div.sk-serial {display: flex;flex-direction: column;align-items: center;background-color: white;padding-right: 0.2em;padding-left: 0.2em;position: relative;}#sk-container-id-2 div.sk-item {position: relative;z-index: 1;}#sk-container-id-2 div.sk-parallel {display: flex;align-items: stretch;justify-content: center;background-color: white;position: relative;}#sk-container-id-2 div.sk-item::before, #sk-container-id-2 div.sk-parallel-item::before {content: \"\";position: absolute;border-left: 1px solid gray;box-sizing: border-box;top: 0;bottom: 0;left: 50%;z-index: -1;}#sk-container-id-2 div.sk-parallel-item {display: flex;flex-direction: column;z-index: 1;position: relative;background-color: white;}#sk-container-id-2 div.sk-parallel-item:first-child::after {align-self: flex-end;width: 50%;}#sk-container-id-2 div.sk-parallel-item:last-child::after {align-self: flex-start;width: 50%;}#sk-container-id-2 div.sk-parallel-item:only-child::after {width: 0;}#sk-container-id-2 div.sk-dashed-wrapped {border: 1px dashed gray;margin: 0 0.4em 0.5em 0.4em;box-sizing: border-box;padding-bottom: 0.4em;background-color: white;}#sk-container-id-2 div.sk-label label {font-family: monospace;font-weight: bold;display: inline-block;line-height: 1.2em;}#sk-container-id-2 div.sk-label-container {text-align: center;}#sk-container-id-2 div.sk-container {/* jupyter's `normalize.less` sets `[hidden] { display: none; }` but bootstrap.min.css set `[hidden] { display: none !important; }` so we also need the `!important` here to be able to override the default hidden behavior on the sphinx rendered scikit-learn.org. See: https://github.com/scikit-learn/scikit-learn/issues/21755 */display: inline-block !important;position: relative;}#sk-container-id-2 div.sk-text-repr-fallback {display: none;}</style><div id=\"sk-container-id-2\" class=\"sk-top-container\"><div class=\"sk-text-repr-fallback\"><pre>RidgeCV(alphas=array([1.e-50, 1.e-49, 1.e-48, 1.e-47, 1.e-46, 1.e-45, 1.e-44, 1.e-43,\n",
       "       1.e-42, 1.e-41, 1.e-40, 1.e-39, 1.e-38, 1.e-37, 1.e-36, 1.e-35,\n",
       "       1.e-34, 1.e-33, 1.e-32, 1.e-31, 1.e-30, 1.e-29, 1.e-28, 1.e-27,\n",
       "       1.e-26, 1.e-25, 1.e-24, 1.e-23, 1.e-22, 1.e-21, 1.e-20, 1.e-19,\n",
       "       1.e-18, 1.e-17, 1.e-16, 1.e-15, 1.e-14, 1.e-13, 1.e-12, 1.e-11,\n",
       "       1.e-10, 1.e-09, 1.e-08, 1.e-07, 1.e-06, 1.e-05, 1.e-04...\n",
       "       1.e-02, 1.e-01, 1.e+00, 1.e+01, 1.e+02, 1.e+03, 1.e+04, 1.e+05,\n",
       "       1.e+06, 1.e+07, 1.e+08, 1.e+09, 1.e+10, 1.e+11, 1.e+12, 1.e+13,\n",
       "       1.e+14, 1.e+15, 1.e+16, 1.e+17, 1.e+18, 1.e+19, 1.e+20, 1.e+21,\n",
       "       1.e+22, 1.e+23, 1.e+24, 1.e+25, 1.e+26, 1.e+27, 1.e+28, 1.e+29,\n",
       "       1.e+30, 1.e+31, 1.e+32, 1.e+33, 1.e+34, 1.e+35, 1.e+36, 1.e+37,\n",
       "       1.e+38, 1.e+39, 1.e+40, 1.e+41, 1.e+42, 1.e+43, 1.e+44, 1.e+45,\n",
       "       1.e+46, 1.e+47, 1.e+48, 1.e+49, 1.e+50]),\n",
       "        store_cv_values=True)</pre><b>In a Jupyter environment, please rerun this cell to show the HTML representation or trust the notebook. <br />On GitHub, the HTML representation is unable to render, please try loading this page with nbviewer.org.</b></div><div class=\"sk-container\" hidden><div class=\"sk-item\"><div class=\"sk-estimator sk-toggleable\"><input class=\"sk-toggleable__control sk-hidden--visually\" id=\"sk-estimator-id-2\" type=\"checkbox\" checked><label for=\"sk-estimator-id-2\" class=\"sk-toggleable__label sk-toggleable__label-arrow\">RidgeCV</label><div class=\"sk-toggleable__content\"><pre>RidgeCV(alphas=array([1.e-50, 1.e-49, 1.e-48, 1.e-47, 1.e-46, 1.e-45, 1.e-44, 1.e-43,\n",
       "       1.e-42, 1.e-41, 1.e-40, 1.e-39, 1.e-38, 1.e-37, 1.e-36, 1.e-35,\n",
       "       1.e-34, 1.e-33, 1.e-32, 1.e-31, 1.e-30, 1.e-29, 1.e-28, 1.e-27,\n",
       "       1.e-26, 1.e-25, 1.e-24, 1.e-23, 1.e-22, 1.e-21, 1.e-20, 1.e-19,\n",
       "       1.e-18, 1.e-17, 1.e-16, 1.e-15, 1.e-14, 1.e-13, 1.e-12, 1.e-11,\n",
       "       1.e-10, 1.e-09, 1.e-08, 1.e-07, 1.e-06, 1.e-05, 1.e-04...\n",
       "       1.e-02, 1.e-01, 1.e+00, 1.e+01, 1.e+02, 1.e+03, 1.e+04, 1.e+05,\n",
       "       1.e+06, 1.e+07, 1.e+08, 1.e+09, 1.e+10, 1.e+11, 1.e+12, 1.e+13,\n",
       "       1.e+14, 1.e+15, 1.e+16, 1.e+17, 1.e+18, 1.e+19, 1.e+20, 1.e+21,\n",
       "       1.e+22, 1.e+23, 1.e+24, 1.e+25, 1.e+26, 1.e+27, 1.e+28, 1.e+29,\n",
       "       1.e+30, 1.e+31, 1.e+32, 1.e+33, 1.e+34, 1.e+35, 1.e+36, 1.e+37,\n",
       "       1.e+38, 1.e+39, 1.e+40, 1.e+41, 1.e+42, 1.e+43, 1.e+44, 1.e+45,\n",
       "       1.e+46, 1.e+47, 1.e+48, 1.e+49, 1.e+50]),\n",
       "        store_cv_values=True)</pre></div></div></div></div></div>"
      ],
      "text/plain": [
       "RidgeCV(alphas=array([1.e-50, 1.e-49, 1.e-48, 1.e-47, 1.e-46, 1.e-45, 1.e-44, 1.e-43,\n",
       "       1.e-42, 1.e-41, 1.e-40, 1.e-39, 1.e-38, 1.e-37, 1.e-36, 1.e-35,\n",
       "       1.e-34, 1.e-33, 1.e-32, 1.e-31, 1.e-30, 1.e-29, 1.e-28, 1.e-27,\n",
       "       1.e-26, 1.e-25, 1.e-24, 1.e-23, 1.e-22, 1.e-21, 1.e-20, 1.e-19,\n",
       "       1.e-18, 1.e-17, 1.e-16, 1.e-15, 1.e-14, 1.e-13, 1.e-12, 1.e-11,\n",
       "       1.e-10, 1.e-09, 1.e-08, 1.e-07, 1.e-06, 1.e-05, 1.e-04...\n",
       "       1.e-02, 1.e-01, 1.e+00, 1.e+01, 1.e+02, 1.e+03, 1.e+04, 1.e+05,\n",
       "       1.e+06, 1.e+07, 1.e+08, 1.e+09, 1.e+10, 1.e+11, 1.e+12, 1.e+13,\n",
       "       1.e+14, 1.e+15, 1.e+16, 1.e+17, 1.e+18, 1.e+19, 1.e+20, 1.e+21,\n",
       "       1.e+22, 1.e+23, 1.e+24, 1.e+25, 1.e+26, 1.e+27, 1.e+28, 1.e+29,\n",
       "       1.e+30, 1.e+31, 1.e+32, 1.e+33, 1.e+34, 1.e+35, 1.e+36, 1.e+37,\n",
       "       1.e+38, 1.e+39, 1.e+40, 1.e+41, 1.e+42, 1.e+43, 1.e+44, 1.e+45,\n",
       "       1.e+46, 1.e+47, 1.e+48, 1.e+49, 1.e+50]),\n",
       "        store_cv_values=True)"
      ]
     },
     "execution_count": 23,
     "metadata": {},
     "output_type": "execute_result"
    }
   ],
   "source": [
    "alphas = np.logspace(-50, 50, 101)\n",
    "ridge_cv_logspace = RidgeCV(alphas=alphas, store_cv_values=True)\n",
    "ridge_cv_logspace.fit(x_train, y_train)"
   ]
  },
  {
   "cell_type": "code",
   "execution_count": 24,
   "id": "40908b20",
   "metadata": {
    "execution": {
     "iopub.execute_input": "2024-07-23T18:22:54.853738Z",
     "iopub.status.busy": "2024-07-23T18:22:54.853363Z",
     "iopub.status.idle": "2024-07-23T18:22:54.866147Z",
     "shell.execute_reply": "2024-07-23T18:22:54.864574Z"
    },
    "papermill": {
     "duration": 0.039472,
     "end_time": "2024-07-23T18:22:54.868888",
     "exception": false,
     "start_time": "2024-07-23T18:22:54.829416",
     "status": "completed"
    },
    "tags": []
   },
   "outputs": [
    {
     "name": "stdout",
     "output_type": "stream",
     "text": [
      "R2 score for train data is: 0.6838738600855283\n",
      "R2 score for test data is: 0.6611539459463378\n"
     ]
    }
   ],
   "source": [
    "ridge_logspace_train_predictions = ridge_cv_logspace.predict(x_train) \n",
    "ridge_logspace_test_predictions = ridge_cv_logspace.predict(x_test)\n",
    "print(\"R2 score for train data is:\",r2_score(y_train, ridge_logspace_train_predictions))\n",
    "print(\"R2 score for test data is:\",r2_score(y_test, ridge_logspace_test_predictions))"
   ]
  },
  {
   "cell_type": "code",
   "execution_count": 25,
   "id": "e027db05",
   "metadata": {
    "execution": {
     "iopub.execute_input": "2024-07-23T18:22:54.915952Z",
     "iopub.status.busy": "2024-07-23T18:22:54.915540Z",
     "iopub.status.idle": "2024-07-23T18:22:54.922929Z",
     "shell.execute_reply": "2024-07-23T18:22:54.921680Z"
    },
    "papermill": {
     "duration": 0.034475,
     "end_time": "2024-07-23T18:22:54.925653",
     "exception": false,
     "start_time": "2024-07-23T18:22:54.891178",
     "status": "completed"
    },
    "tags": []
   },
   "outputs": [
    {
     "data": {
      "text/plain": [
       "1.0"
      ]
     },
     "execution_count": 25,
     "metadata": {},
     "output_type": "execute_result"
    }
   ],
   "source": [
    "best_alpha = ridge_cv_logspace.alpha_\n",
    "best_alpha"
   ]
  },
  {
   "cell_type": "markdown",
   "id": "1a3fc18f",
   "metadata": {
    "papermill": {
     "duration": 0.022114,
     "end_time": "2024-07-23T18:22:54.971633",
     "exception": false,
     "start_time": "2024-07-23T18:22:54.949519",
     "status": "completed"
    },
    "tags": []
   },
   "source": [
    "## Lasso:"
   ]
  },
  {
   "cell_type": "markdown",
   "id": "a1c3f122",
   "metadata": {
    "papermill": {
     "duration": 0.022841,
     "end_time": "2024-07-23T18:22:55.016789",
     "exception": false,
     "start_time": "2024-07-23T18:22:54.993948",
     "status": "completed"
    },
    "tags": []
   },
   "source": [
    "### Alphas with linspace:"
   ]
  },
  {
   "cell_type": "code",
   "execution_count": 26,
   "id": "bdcbf92e",
   "metadata": {
    "execution": {
     "iopub.execute_input": "2024-07-23T18:22:55.063906Z",
     "iopub.status.busy": "2024-07-23T18:22:55.063504Z",
     "iopub.status.idle": "2024-07-23T18:22:55.165825Z",
     "shell.execute_reply": "2024-07-23T18:22:55.164471Z"
    },
    "papermill": {
     "duration": 0.12966,
     "end_time": "2024-07-23T18:22:55.169061",
     "exception": false,
     "start_time": "2024-07-23T18:22:55.039401",
     "status": "completed"
    },
    "tags": []
   },
   "outputs": [
    {
     "data": {
      "text/html": [
       "<style>#sk-container-id-3 {color: black;background-color: white;}#sk-container-id-3 pre{padding: 0;}#sk-container-id-3 div.sk-toggleable {background-color: white;}#sk-container-id-3 label.sk-toggleable__label {cursor: pointer;display: block;width: 100%;margin-bottom: 0;padding: 0.3em;box-sizing: border-box;text-align: center;}#sk-container-id-3 label.sk-toggleable__label-arrow:before {content: \"▸\";float: left;margin-right: 0.25em;color: #696969;}#sk-container-id-3 label.sk-toggleable__label-arrow:hover:before {color: black;}#sk-container-id-3 div.sk-estimator:hover label.sk-toggleable__label-arrow:before {color: black;}#sk-container-id-3 div.sk-toggleable__content {max-height: 0;max-width: 0;overflow: hidden;text-align: left;background-color: #f0f8ff;}#sk-container-id-3 div.sk-toggleable__content pre {margin: 0.2em;color: black;border-radius: 0.25em;background-color: #f0f8ff;}#sk-container-id-3 input.sk-toggleable__control:checked~div.sk-toggleable__content {max-height: 200px;max-width: 100%;overflow: auto;}#sk-container-id-3 input.sk-toggleable__control:checked~label.sk-toggleable__label-arrow:before {content: \"▾\";}#sk-container-id-3 div.sk-estimator input.sk-toggleable__control:checked~label.sk-toggleable__label {background-color: #d4ebff;}#sk-container-id-3 div.sk-label input.sk-toggleable__control:checked~label.sk-toggleable__label {background-color: #d4ebff;}#sk-container-id-3 input.sk-hidden--visually {border: 0;clip: rect(1px 1px 1px 1px);clip: rect(1px, 1px, 1px, 1px);height: 1px;margin: -1px;overflow: hidden;padding: 0;position: absolute;width: 1px;}#sk-container-id-3 div.sk-estimator {font-family: monospace;background-color: #f0f8ff;border: 1px dotted black;border-radius: 0.25em;box-sizing: border-box;margin-bottom: 0.5em;}#sk-container-id-3 div.sk-estimator:hover {background-color: #d4ebff;}#sk-container-id-3 div.sk-parallel-item::after {content: \"\";width: 100%;border-bottom: 1px solid gray;flex-grow: 1;}#sk-container-id-3 div.sk-label:hover label.sk-toggleable__label {background-color: #d4ebff;}#sk-container-id-3 div.sk-serial::before {content: \"\";position: absolute;border-left: 1px solid gray;box-sizing: border-box;top: 0;bottom: 0;left: 50%;z-index: 0;}#sk-container-id-3 div.sk-serial {display: flex;flex-direction: column;align-items: center;background-color: white;padding-right: 0.2em;padding-left: 0.2em;position: relative;}#sk-container-id-3 div.sk-item {position: relative;z-index: 1;}#sk-container-id-3 div.sk-parallel {display: flex;align-items: stretch;justify-content: center;background-color: white;position: relative;}#sk-container-id-3 div.sk-item::before, #sk-container-id-3 div.sk-parallel-item::before {content: \"\";position: absolute;border-left: 1px solid gray;box-sizing: border-box;top: 0;bottom: 0;left: 50%;z-index: -1;}#sk-container-id-3 div.sk-parallel-item {display: flex;flex-direction: column;z-index: 1;position: relative;background-color: white;}#sk-container-id-3 div.sk-parallel-item:first-child::after {align-self: flex-end;width: 50%;}#sk-container-id-3 div.sk-parallel-item:last-child::after {align-self: flex-start;width: 50%;}#sk-container-id-3 div.sk-parallel-item:only-child::after {width: 0;}#sk-container-id-3 div.sk-dashed-wrapped {border: 1px dashed gray;margin: 0 0.4em 0.5em 0.4em;box-sizing: border-box;padding-bottom: 0.4em;background-color: white;}#sk-container-id-3 div.sk-label label {font-family: monospace;font-weight: bold;display: inline-block;line-height: 1.2em;}#sk-container-id-3 div.sk-label-container {text-align: center;}#sk-container-id-3 div.sk-container {/* jupyter's `normalize.less` sets `[hidden] { display: none; }` but bootstrap.min.css set `[hidden] { display: none !important; }` so we also need the `!important` here to be able to override the default hidden behavior on the sphinx rendered scikit-learn.org. See: https://github.com/scikit-learn/scikit-learn/issues/21755 */display: inline-block !important;position: relative;}#sk-container-id-3 div.sk-text-repr-fallback {display: none;}</style><div id=\"sk-container-id-3\" class=\"sk-top-container\"><div class=\"sk-text-repr-fallback\"><pre>LassoCV(alphas=array([ 0.1,  0.2,  0.3,  0.4,  0.5,  0.6,  0.7,  0.8,  0.9,  1. ,  1.1,\n",
       "        1.2,  1.3,  1.4,  1.5,  1.6,  1.7,  1.8,  1.9,  2. ,  2.1,  2.2,\n",
       "        2.3,  2.4,  2.5,  2.6,  2.7,  2.8,  2.9,  3. ,  3.1,  3.2,  3.3,\n",
       "        3.4,  3.5,  3.6,  3.7,  3.8,  3.9,  4. ,  4.1,  4.2,  4.3,  4.4,\n",
       "        4.5,  4.6,  4.7,  4.8,  4.9,  5. ,  5.1,  5.2,  5.3,  5.4,  5.5,\n",
       "        5.6,  5.7,  5.8,  5.9,  6. ,  6.1,  6.2,  6.3,  6.4,  6.5,  6.6,\n",
       "        6.7,  6.8,  6.9,  7. ,  7.1,  7.2,  7.3,  7.4,  7.5,  7.6,  7.7,\n",
       "        7.8,  7.9,  8. ,  8.1,  8.2,  8.3,  8.4,  8.5,  8.6,  8.7,  8.8,\n",
       "        8.9,  9. ,  9.1,  9.2,  9.3,  9.4,  9.5,  9.6,  9.7,  9.8,  9.9,\n",
       "       10. ]))</pre><b>In a Jupyter environment, please rerun this cell to show the HTML representation or trust the notebook. <br />On GitHub, the HTML representation is unable to render, please try loading this page with nbviewer.org.</b></div><div class=\"sk-container\" hidden><div class=\"sk-item\"><div class=\"sk-estimator sk-toggleable\"><input class=\"sk-toggleable__control sk-hidden--visually\" id=\"sk-estimator-id-3\" type=\"checkbox\" checked><label for=\"sk-estimator-id-3\" class=\"sk-toggleable__label sk-toggleable__label-arrow\">LassoCV</label><div class=\"sk-toggleable__content\"><pre>LassoCV(alphas=array([ 0.1,  0.2,  0.3,  0.4,  0.5,  0.6,  0.7,  0.8,  0.9,  1. ,  1.1,\n",
       "        1.2,  1.3,  1.4,  1.5,  1.6,  1.7,  1.8,  1.9,  2. ,  2.1,  2.2,\n",
       "        2.3,  2.4,  2.5,  2.6,  2.7,  2.8,  2.9,  3. ,  3.1,  3.2,  3.3,\n",
       "        3.4,  3.5,  3.6,  3.7,  3.8,  3.9,  4. ,  4.1,  4.2,  4.3,  4.4,\n",
       "        4.5,  4.6,  4.7,  4.8,  4.9,  5. ,  5.1,  5.2,  5.3,  5.4,  5.5,\n",
       "        5.6,  5.7,  5.8,  5.9,  6. ,  6.1,  6.2,  6.3,  6.4,  6.5,  6.6,\n",
       "        6.7,  6.8,  6.9,  7. ,  7.1,  7.2,  7.3,  7.4,  7.5,  7.6,  7.7,\n",
       "        7.8,  7.9,  8. ,  8.1,  8.2,  8.3,  8.4,  8.5,  8.6,  8.7,  8.8,\n",
       "        8.9,  9. ,  9.1,  9.2,  9.3,  9.4,  9.5,  9.6,  9.7,  9.8,  9.9,\n",
       "       10. ]))</pre></div></div></div></div></div>"
      ],
      "text/plain": [
       "LassoCV(alphas=array([ 0.1,  0.2,  0.3,  0.4,  0.5,  0.6,  0.7,  0.8,  0.9,  1. ,  1.1,\n",
       "        1.2,  1.3,  1.4,  1.5,  1.6,  1.7,  1.8,  1.9,  2. ,  2.1,  2.2,\n",
       "        2.3,  2.4,  2.5,  2.6,  2.7,  2.8,  2.9,  3. ,  3.1,  3.2,  3.3,\n",
       "        3.4,  3.5,  3.6,  3.7,  3.8,  3.9,  4. ,  4.1,  4.2,  4.3,  4.4,\n",
       "        4.5,  4.6,  4.7,  4.8,  4.9,  5. ,  5.1,  5.2,  5.3,  5.4,  5.5,\n",
       "        5.6,  5.7,  5.8,  5.9,  6. ,  6.1,  6.2,  6.3,  6.4,  6.5,  6.6,\n",
       "        6.7,  6.8,  6.9,  7. ,  7.1,  7.2,  7.3,  7.4,  7.5,  7.6,  7.7,\n",
       "        7.8,  7.9,  8. ,  8.1,  8.2,  8.3,  8.4,  8.5,  8.6,  8.7,  8.8,\n",
       "        8.9,  9. ,  9.1,  9.2,  9.3,  9.4,  9.5,  9.6,  9.7,  9.8,  9.9,\n",
       "       10. ]))"
      ]
     },
     "execution_count": 26,
     "metadata": {},
     "output_type": "execute_result"
    }
   ],
   "source": [
    "alphas = np.linspace(0.1, 10, 100)\n",
    "lasso_cv = LassoCV(alphas=alphas)\n",
    "lasso_cv.fit(x_train, y_train)"
   ]
  },
  {
   "cell_type": "code",
   "execution_count": 27,
   "id": "e6f3b9bb",
   "metadata": {
    "execution": {
     "iopub.execute_input": "2024-07-23T18:22:55.216498Z",
     "iopub.status.busy": "2024-07-23T18:22:55.216059Z",
     "iopub.status.idle": "2024-07-23T18:22:55.228964Z",
     "shell.execute_reply": "2024-07-23T18:22:55.227923Z"
    },
    "papermill": {
     "duration": 0.039821,
     "end_time": "2024-07-23T18:22:55.231830",
     "exception": false,
     "start_time": "2024-07-23T18:22:55.192009",
     "status": "completed"
    },
    "tags": []
   },
   "outputs": [
    {
     "name": "stdout",
     "output_type": "stream",
     "text": [
      "R2 score for train data is: 0.6839176601752495\n",
      "R2 score for test data is: 0.6614579906260735\n"
     ]
    }
   ],
   "source": [
    "lasso_train_predictions = lasso_cv.predict(x_train) \n",
    "lasso_test_predictions = lasso_cv.predict(x_test)\n",
    "print(\"R2 score for train data is:\",r2_score(y_train, lasso_train_predictions))\n",
    "print(\"R2 score for test data is:\",r2_score(y_test, lasso_test_predictions))"
   ]
  },
  {
   "cell_type": "code",
   "execution_count": 28,
   "id": "191810af",
   "metadata": {
    "execution": {
     "iopub.execute_input": "2024-07-23T18:22:55.279331Z",
     "iopub.status.busy": "2024-07-23T18:22:55.278902Z",
     "iopub.status.idle": "2024-07-23T18:22:55.286643Z",
     "shell.execute_reply": "2024-07-23T18:22:55.285306Z"
    },
    "papermill": {
     "duration": 0.034564,
     "end_time": "2024-07-23T18:22:55.289354",
     "exception": false,
     "start_time": "2024-07-23T18:22:55.254790",
     "status": "completed"
    },
    "tags": []
   },
   "outputs": [
    {
     "data": {
      "text/plain": [
       "10.0"
      ]
     },
     "execution_count": 28,
     "metadata": {},
     "output_type": "execute_result"
    }
   ],
   "source": [
    "best_alpha = lasso_cv.alpha_\n",
    "best_alpha"
   ]
  },
  {
   "cell_type": "markdown",
   "id": "96e4fe08",
   "metadata": {
    "papermill": {
     "duration": 0.022416,
     "end_time": "2024-07-23T18:22:55.334657",
     "exception": false,
     "start_time": "2024-07-23T18:22:55.312241",
     "status": "completed"
    },
    "tags": []
   },
   "source": [
    "### Alphas with logspace:"
   ]
  },
  {
   "cell_type": "code",
   "execution_count": 29,
   "id": "1d62133e",
   "metadata": {
    "execution": {
     "iopub.execute_input": "2024-07-23T18:22:55.384179Z",
     "iopub.status.busy": "2024-07-23T18:22:55.383000Z",
     "iopub.status.idle": "2024-07-23T18:22:55.480975Z",
     "shell.execute_reply": "2024-07-23T18:22:55.479849Z"
    },
    "papermill": {
     "duration": 0.125335,
     "end_time": "2024-07-23T18:22:55.483589",
     "exception": false,
     "start_time": "2024-07-23T18:22:55.358254",
     "status": "completed"
    },
    "tags": []
   },
   "outputs": [
    {
     "data": {
      "text/html": [
       "<style>#sk-container-id-4 {color: black;background-color: white;}#sk-container-id-4 pre{padding: 0;}#sk-container-id-4 div.sk-toggleable {background-color: white;}#sk-container-id-4 label.sk-toggleable__label {cursor: pointer;display: block;width: 100%;margin-bottom: 0;padding: 0.3em;box-sizing: border-box;text-align: center;}#sk-container-id-4 label.sk-toggleable__label-arrow:before {content: \"▸\";float: left;margin-right: 0.25em;color: #696969;}#sk-container-id-4 label.sk-toggleable__label-arrow:hover:before {color: black;}#sk-container-id-4 div.sk-estimator:hover label.sk-toggleable__label-arrow:before {color: black;}#sk-container-id-4 div.sk-toggleable__content {max-height: 0;max-width: 0;overflow: hidden;text-align: left;background-color: #f0f8ff;}#sk-container-id-4 div.sk-toggleable__content pre {margin: 0.2em;color: black;border-radius: 0.25em;background-color: #f0f8ff;}#sk-container-id-4 input.sk-toggleable__control:checked~div.sk-toggleable__content {max-height: 200px;max-width: 100%;overflow: auto;}#sk-container-id-4 input.sk-toggleable__control:checked~label.sk-toggleable__label-arrow:before {content: \"▾\";}#sk-container-id-4 div.sk-estimator input.sk-toggleable__control:checked~label.sk-toggleable__label {background-color: #d4ebff;}#sk-container-id-4 div.sk-label input.sk-toggleable__control:checked~label.sk-toggleable__label {background-color: #d4ebff;}#sk-container-id-4 input.sk-hidden--visually {border: 0;clip: rect(1px 1px 1px 1px);clip: rect(1px, 1px, 1px, 1px);height: 1px;margin: -1px;overflow: hidden;padding: 0;position: absolute;width: 1px;}#sk-container-id-4 div.sk-estimator {font-family: monospace;background-color: #f0f8ff;border: 1px dotted black;border-radius: 0.25em;box-sizing: border-box;margin-bottom: 0.5em;}#sk-container-id-4 div.sk-estimator:hover {background-color: #d4ebff;}#sk-container-id-4 div.sk-parallel-item::after {content: \"\";width: 100%;border-bottom: 1px solid gray;flex-grow: 1;}#sk-container-id-4 div.sk-label:hover label.sk-toggleable__label {background-color: #d4ebff;}#sk-container-id-4 div.sk-serial::before {content: \"\";position: absolute;border-left: 1px solid gray;box-sizing: border-box;top: 0;bottom: 0;left: 50%;z-index: 0;}#sk-container-id-4 div.sk-serial {display: flex;flex-direction: column;align-items: center;background-color: white;padding-right: 0.2em;padding-left: 0.2em;position: relative;}#sk-container-id-4 div.sk-item {position: relative;z-index: 1;}#sk-container-id-4 div.sk-parallel {display: flex;align-items: stretch;justify-content: center;background-color: white;position: relative;}#sk-container-id-4 div.sk-item::before, #sk-container-id-4 div.sk-parallel-item::before {content: \"\";position: absolute;border-left: 1px solid gray;box-sizing: border-box;top: 0;bottom: 0;left: 50%;z-index: -1;}#sk-container-id-4 div.sk-parallel-item {display: flex;flex-direction: column;z-index: 1;position: relative;background-color: white;}#sk-container-id-4 div.sk-parallel-item:first-child::after {align-self: flex-end;width: 50%;}#sk-container-id-4 div.sk-parallel-item:last-child::after {align-self: flex-start;width: 50%;}#sk-container-id-4 div.sk-parallel-item:only-child::after {width: 0;}#sk-container-id-4 div.sk-dashed-wrapped {border: 1px dashed gray;margin: 0 0.4em 0.5em 0.4em;box-sizing: border-box;padding-bottom: 0.4em;background-color: white;}#sk-container-id-4 div.sk-label label {font-family: monospace;font-weight: bold;display: inline-block;line-height: 1.2em;}#sk-container-id-4 div.sk-label-container {text-align: center;}#sk-container-id-4 div.sk-container {/* jupyter's `normalize.less` sets `[hidden] { display: none; }` but bootstrap.min.css set `[hidden] { display: none !important; }` so we also need the `!important` here to be able to override the default hidden behavior on the sphinx rendered scikit-learn.org. See: https://github.com/scikit-learn/scikit-learn/issues/21755 */display: inline-block !important;position: relative;}#sk-container-id-4 div.sk-text-repr-fallback {display: none;}</style><div id=\"sk-container-id-4\" class=\"sk-top-container\"><div class=\"sk-text-repr-fallback\"><pre>LassoCV(alphas=array([1.25892541e+00, 1.58489319e+00, 1.99526231e+00, 2.51188643e+00,\n",
       "       3.16227766e+00, 3.98107171e+00, 5.01187234e+00, 6.30957344e+00,\n",
       "       7.94328235e+00, 1.00000000e+01, 1.25892541e+01, 1.58489319e+01,\n",
       "       1.99526231e+01, 2.51188643e+01, 3.16227766e+01, 3.98107171e+01,\n",
       "       5.01187234e+01, 6.30957344e+01, 7.94328235e+01, 1.00000000e+02,\n",
       "       1.25892541e+02, 1.58489319e+0...\n",
       "       5.01187234e+07, 6.30957344e+07, 7.94328235e+07, 1.00000000e+08,\n",
       "       1.25892541e+08, 1.58489319e+08, 1.99526231e+08, 2.51188643e+08,\n",
       "       3.16227766e+08, 3.98107171e+08, 5.01187234e+08, 6.30957344e+08,\n",
       "       7.94328235e+08, 1.00000000e+09, 1.25892541e+09, 1.58489319e+09,\n",
       "       1.99526231e+09, 2.51188643e+09, 3.16227766e+09, 3.98107171e+09,\n",
       "       5.01187234e+09, 6.30957344e+09, 7.94328235e+09, 1.00000000e+10]))</pre><b>In a Jupyter environment, please rerun this cell to show the HTML representation or trust the notebook. <br />On GitHub, the HTML representation is unable to render, please try loading this page with nbviewer.org.</b></div><div class=\"sk-container\" hidden><div class=\"sk-item\"><div class=\"sk-estimator sk-toggleable\"><input class=\"sk-toggleable__control sk-hidden--visually\" id=\"sk-estimator-id-4\" type=\"checkbox\" checked><label for=\"sk-estimator-id-4\" class=\"sk-toggleable__label sk-toggleable__label-arrow\">LassoCV</label><div class=\"sk-toggleable__content\"><pre>LassoCV(alphas=array([1.25892541e+00, 1.58489319e+00, 1.99526231e+00, 2.51188643e+00,\n",
       "       3.16227766e+00, 3.98107171e+00, 5.01187234e+00, 6.30957344e+00,\n",
       "       7.94328235e+00, 1.00000000e+01, 1.25892541e+01, 1.58489319e+01,\n",
       "       1.99526231e+01, 2.51188643e+01, 3.16227766e+01, 3.98107171e+01,\n",
       "       5.01187234e+01, 6.30957344e+01, 7.94328235e+01, 1.00000000e+02,\n",
       "       1.25892541e+02, 1.58489319e+0...\n",
       "       5.01187234e+07, 6.30957344e+07, 7.94328235e+07, 1.00000000e+08,\n",
       "       1.25892541e+08, 1.58489319e+08, 1.99526231e+08, 2.51188643e+08,\n",
       "       3.16227766e+08, 3.98107171e+08, 5.01187234e+08, 6.30957344e+08,\n",
       "       7.94328235e+08, 1.00000000e+09, 1.25892541e+09, 1.58489319e+09,\n",
       "       1.99526231e+09, 2.51188643e+09, 3.16227766e+09, 3.98107171e+09,\n",
       "       5.01187234e+09, 6.30957344e+09, 7.94328235e+09, 1.00000000e+10]))</pre></div></div></div></div></div>"
      ],
      "text/plain": [
       "LassoCV(alphas=array([1.25892541e+00, 1.58489319e+00, 1.99526231e+00, 2.51188643e+00,\n",
       "       3.16227766e+00, 3.98107171e+00, 5.01187234e+00, 6.30957344e+00,\n",
       "       7.94328235e+00, 1.00000000e+01, 1.25892541e+01, 1.58489319e+01,\n",
       "       1.99526231e+01, 2.51188643e+01, 3.16227766e+01, 3.98107171e+01,\n",
       "       5.01187234e+01, 6.30957344e+01, 7.94328235e+01, 1.00000000e+02,\n",
       "       1.25892541e+02, 1.58489319e+0...\n",
       "       5.01187234e+07, 6.30957344e+07, 7.94328235e+07, 1.00000000e+08,\n",
       "       1.25892541e+08, 1.58489319e+08, 1.99526231e+08, 2.51188643e+08,\n",
       "       3.16227766e+08, 3.98107171e+08, 5.01187234e+08, 6.30957344e+08,\n",
       "       7.94328235e+08, 1.00000000e+09, 1.25892541e+09, 1.58489319e+09,\n",
       "       1.99526231e+09, 2.51188643e+09, 3.16227766e+09, 3.98107171e+09,\n",
       "       5.01187234e+09, 6.30957344e+09, 7.94328235e+09, 1.00000000e+10]))"
      ]
     },
     "execution_count": 29,
     "metadata": {},
     "output_type": "execute_result"
    }
   ],
   "source": [
    "alphas = np.logspace(0.1, 10, 100)\n",
    "lasso_cv_logspace = LassoCV(alphas=alphas)\n",
    "lasso_cv_logspace.fit(x_train, y_train)"
   ]
  },
  {
   "cell_type": "code",
   "execution_count": 30,
   "id": "ea4ab322",
   "metadata": {
    "execution": {
     "iopub.execute_input": "2024-07-23T18:22:55.532317Z",
     "iopub.status.busy": "2024-07-23T18:22:55.531886Z",
     "iopub.status.idle": "2024-07-23T18:22:55.545339Z",
     "shell.execute_reply": "2024-07-23T18:22:55.543864Z"
    },
    "papermill": {
     "duration": 0.041117,
     "end_time": "2024-07-23T18:22:55.547858",
     "exception": false,
     "start_time": "2024-07-23T18:22:55.506741",
     "status": "completed"
    },
    "tags": []
   },
   "outputs": [
    {
     "name": "stdout",
     "output_type": "stream",
     "text": [
      "R2 score for train data is: 0.6838774216109428\n",
      "R2 score for test data is: 0.6606649338783298\n"
     ]
    }
   ],
   "source": [
    "lasso_logspace_train_predictions = lasso_cv_logspace.predict(x_train) \n",
    "lasso_logspace_test_predictions = lasso_cv_logspace.predict(x_test)\n",
    "print(\"R2 score for train data is:\",r2_score(y_train, lasso_logspace_train_predictions))\n",
    "print(\"R2 score for test data is:\",r2_score(y_test, lasso_logspace_test_predictions))"
   ]
  },
  {
   "cell_type": "code",
   "execution_count": 31,
   "id": "7d1dc8a8",
   "metadata": {
    "execution": {
     "iopub.execute_input": "2024-07-23T18:22:55.600930Z",
     "iopub.status.busy": "2024-07-23T18:22:55.600546Z",
     "iopub.status.idle": "2024-07-23T18:22:55.608497Z",
     "shell.execute_reply": "2024-07-23T18:22:55.607380Z"
    },
    "papermill": {
     "duration": 0.036952,
     "end_time": "2024-07-23T18:22:55.610785",
     "exception": false,
     "start_time": "2024-07-23T18:22:55.573833",
     "status": "completed"
    },
    "tags": []
   },
   "outputs": [
    {
     "data": {
      "text/plain": [
       "1584.893192461114"
      ]
     },
     "execution_count": 31,
     "metadata": {},
     "output_type": "execute_result"
    }
   ],
   "source": [
    "best_alpha = lasso_cv_logspace.alpha_\n",
    "best_alpha"
   ]
  },
  {
   "cell_type": "markdown",
   "id": "be13db72",
   "metadata": {
    "papermill": {
     "duration": 0.022936,
     "end_time": "2024-07-23T18:22:55.656843",
     "exception": false,
     "start_time": "2024-07-23T18:22:55.633907",
     "status": "completed"
    },
    "tags": []
   },
   "source": [
    "## Elastic-net:"
   ]
  },
  {
   "cell_type": "markdown",
   "id": "84921067",
   "metadata": {
    "execution": {
     "iopub.execute_input": "2024-07-23T17:59:35.117102Z",
     "iopub.status.busy": "2024-07-23T17:59:35.115175Z",
     "iopub.status.idle": "2024-07-23T17:59:35.122794Z",
     "shell.execute_reply": "2024-07-23T17:59:35.121001Z",
     "shell.execute_reply.started": "2024-07-23T17:59:35.117018Z"
    },
    "papermill": {
     "duration": 0.023677,
     "end_time": "2024-07-23T18:22:55.704355",
     "exception": false,
     "start_time": "2024-07-23T18:22:55.680678",
     "status": "completed"
    },
    "tags": []
   },
   "source": [
    "### Alphas with linspace:"
   ]
  },
  {
   "cell_type": "code",
   "execution_count": 32,
   "id": "58936ce6",
   "metadata": {
    "execution": {
     "iopub.execute_input": "2024-07-23T18:22:55.754471Z",
     "iopub.status.busy": "2024-07-23T18:22:55.753229Z",
     "iopub.status.idle": "2024-07-23T18:22:55.846990Z",
     "shell.execute_reply": "2024-07-23T18:22:55.845792Z"
    },
    "papermill": {
     "duration": 0.121618,
     "end_time": "2024-07-23T18:22:55.849785",
     "exception": false,
     "start_time": "2024-07-23T18:22:55.728167",
     "status": "completed"
    },
    "tags": []
   },
   "outputs": [
    {
     "data": {
      "text/html": [
       "<style>#sk-container-id-5 {color: black;background-color: white;}#sk-container-id-5 pre{padding: 0;}#sk-container-id-5 div.sk-toggleable {background-color: white;}#sk-container-id-5 label.sk-toggleable__label {cursor: pointer;display: block;width: 100%;margin-bottom: 0;padding: 0.3em;box-sizing: border-box;text-align: center;}#sk-container-id-5 label.sk-toggleable__label-arrow:before {content: \"▸\";float: left;margin-right: 0.25em;color: #696969;}#sk-container-id-5 label.sk-toggleable__label-arrow:hover:before {color: black;}#sk-container-id-5 div.sk-estimator:hover label.sk-toggleable__label-arrow:before {color: black;}#sk-container-id-5 div.sk-toggleable__content {max-height: 0;max-width: 0;overflow: hidden;text-align: left;background-color: #f0f8ff;}#sk-container-id-5 div.sk-toggleable__content pre {margin: 0.2em;color: black;border-radius: 0.25em;background-color: #f0f8ff;}#sk-container-id-5 input.sk-toggleable__control:checked~div.sk-toggleable__content {max-height: 200px;max-width: 100%;overflow: auto;}#sk-container-id-5 input.sk-toggleable__control:checked~label.sk-toggleable__label-arrow:before {content: \"▾\";}#sk-container-id-5 div.sk-estimator input.sk-toggleable__control:checked~label.sk-toggleable__label {background-color: #d4ebff;}#sk-container-id-5 div.sk-label input.sk-toggleable__control:checked~label.sk-toggleable__label {background-color: #d4ebff;}#sk-container-id-5 input.sk-hidden--visually {border: 0;clip: rect(1px 1px 1px 1px);clip: rect(1px, 1px, 1px, 1px);height: 1px;margin: -1px;overflow: hidden;padding: 0;position: absolute;width: 1px;}#sk-container-id-5 div.sk-estimator {font-family: monospace;background-color: #f0f8ff;border: 1px dotted black;border-radius: 0.25em;box-sizing: border-box;margin-bottom: 0.5em;}#sk-container-id-5 div.sk-estimator:hover {background-color: #d4ebff;}#sk-container-id-5 div.sk-parallel-item::after {content: \"\";width: 100%;border-bottom: 1px solid gray;flex-grow: 1;}#sk-container-id-5 div.sk-label:hover label.sk-toggleable__label {background-color: #d4ebff;}#sk-container-id-5 div.sk-serial::before {content: \"\";position: absolute;border-left: 1px solid gray;box-sizing: border-box;top: 0;bottom: 0;left: 50%;z-index: 0;}#sk-container-id-5 div.sk-serial {display: flex;flex-direction: column;align-items: center;background-color: white;padding-right: 0.2em;padding-left: 0.2em;position: relative;}#sk-container-id-5 div.sk-item {position: relative;z-index: 1;}#sk-container-id-5 div.sk-parallel {display: flex;align-items: stretch;justify-content: center;background-color: white;position: relative;}#sk-container-id-5 div.sk-item::before, #sk-container-id-5 div.sk-parallel-item::before {content: \"\";position: absolute;border-left: 1px solid gray;box-sizing: border-box;top: 0;bottom: 0;left: 50%;z-index: -1;}#sk-container-id-5 div.sk-parallel-item {display: flex;flex-direction: column;z-index: 1;position: relative;background-color: white;}#sk-container-id-5 div.sk-parallel-item:first-child::after {align-self: flex-end;width: 50%;}#sk-container-id-5 div.sk-parallel-item:last-child::after {align-self: flex-start;width: 50%;}#sk-container-id-5 div.sk-parallel-item:only-child::after {width: 0;}#sk-container-id-5 div.sk-dashed-wrapped {border: 1px dashed gray;margin: 0 0.4em 0.5em 0.4em;box-sizing: border-box;padding-bottom: 0.4em;background-color: white;}#sk-container-id-5 div.sk-label label {font-family: monospace;font-weight: bold;display: inline-block;line-height: 1.2em;}#sk-container-id-5 div.sk-label-container {text-align: center;}#sk-container-id-5 div.sk-container {/* jupyter's `normalize.less` sets `[hidden] { display: none; }` but bootstrap.min.css set `[hidden] { display: none !important; }` so we also need the `!important` here to be able to override the default hidden behavior on the sphinx rendered scikit-learn.org. See: https://github.com/scikit-learn/scikit-learn/issues/21755 */display: inline-block !important;position: relative;}#sk-container-id-5 div.sk-text-repr-fallback {display: none;}</style><div id=\"sk-container-id-5\" class=\"sk-top-container\"><div class=\"sk-text-repr-fallback\"><pre>ElasticNetCV(alphas=array([ 0.1,  0.2,  0.3,  0.4,  0.5,  0.6,  0.7,  0.8,  0.9,  1. ,  1.1,\n",
       "        1.2,  1.3,  1.4,  1.5,  1.6,  1.7,  1.8,  1.9,  2. ,  2.1,  2.2,\n",
       "        2.3,  2.4,  2.5,  2.6,  2.7,  2.8,  2.9,  3. ,  3.1,  3.2,  3.3,\n",
       "        3.4,  3.5,  3.6,  3.7,  3.8,  3.9,  4. ,  4.1,  4.2,  4.3,  4.4,\n",
       "        4.5,  4.6,  4.7,  4.8,  4.9,  5. ,  5.1,  5.2,  5.3,  5.4,  5.5,\n",
       "        5.6,  5.7,  5.8,  5.9,  6. ,  6.1,  6.2,  6.3,  6.4,  6.5,  6.6,\n",
       "        6.7,  6.8,  6.9,  7. ,  7.1,  7.2,  7.3,  7.4,  7.5,  7.6,  7.7,\n",
       "        7.8,  7.9,  8. ,  8.1,  8.2,  8.3,  8.4,  8.5,  8.6,  8.7,  8.8,\n",
       "        8.9,  9. ,  9.1,  9.2,  9.3,  9.4,  9.5,  9.6,  9.7,  9.8,  9.9,\n",
       "       10. ]))</pre><b>In a Jupyter environment, please rerun this cell to show the HTML representation or trust the notebook. <br />On GitHub, the HTML representation is unable to render, please try loading this page with nbviewer.org.</b></div><div class=\"sk-container\" hidden><div class=\"sk-item\"><div class=\"sk-estimator sk-toggleable\"><input class=\"sk-toggleable__control sk-hidden--visually\" id=\"sk-estimator-id-5\" type=\"checkbox\" checked><label for=\"sk-estimator-id-5\" class=\"sk-toggleable__label sk-toggleable__label-arrow\">ElasticNetCV</label><div class=\"sk-toggleable__content\"><pre>ElasticNetCV(alphas=array([ 0.1,  0.2,  0.3,  0.4,  0.5,  0.6,  0.7,  0.8,  0.9,  1. ,  1.1,\n",
       "        1.2,  1.3,  1.4,  1.5,  1.6,  1.7,  1.8,  1.9,  2. ,  2.1,  2.2,\n",
       "        2.3,  2.4,  2.5,  2.6,  2.7,  2.8,  2.9,  3. ,  3.1,  3.2,  3.3,\n",
       "        3.4,  3.5,  3.6,  3.7,  3.8,  3.9,  4. ,  4.1,  4.2,  4.3,  4.4,\n",
       "        4.5,  4.6,  4.7,  4.8,  4.9,  5. ,  5.1,  5.2,  5.3,  5.4,  5.5,\n",
       "        5.6,  5.7,  5.8,  5.9,  6. ,  6.1,  6.2,  6.3,  6.4,  6.5,  6.6,\n",
       "        6.7,  6.8,  6.9,  7. ,  7.1,  7.2,  7.3,  7.4,  7.5,  7.6,  7.7,\n",
       "        7.8,  7.9,  8. ,  8.1,  8.2,  8.3,  8.4,  8.5,  8.6,  8.7,  8.8,\n",
       "        8.9,  9. ,  9.1,  9.2,  9.3,  9.4,  9.5,  9.6,  9.7,  9.8,  9.9,\n",
       "       10. ]))</pre></div></div></div></div></div>"
      ],
      "text/plain": [
       "ElasticNetCV(alphas=array([ 0.1,  0.2,  0.3,  0.4,  0.5,  0.6,  0.7,  0.8,  0.9,  1. ,  1.1,\n",
       "        1.2,  1.3,  1.4,  1.5,  1.6,  1.7,  1.8,  1.9,  2. ,  2.1,  2.2,\n",
       "        2.3,  2.4,  2.5,  2.6,  2.7,  2.8,  2.9,  3. ,  3.1,  3.2,  3.3,\n",
       "        3.4,  3.5,  3.6,  3.7,  3.8,  3.9,  4. ,  4.1,  4.2,  4.3,  4.4,\n",
       "        4.5,  4.6,  4.7,  4.8,  4.9,  5. ,  5.1,  5.2,  5.3,  5.4,  5.5,\n",
       "        5.6,  5.7,  5.8,  5.9,  6. ,  6.1,  6.2,  6.3,  6.4,  6.5,  6.6,\n",
       "        6.7,  6.8,  6.9,  7. ,  7.1,  7.2,  7.3,  7.4,  7.5,  7.6,  7.7,\n",
       "        7.8,  7.9,  8. ,  8.1,  8.2,  8.3,  8.4,  8.5,  8.6,  8.7,  8.8,\n",
       "        8.9,  9. ,  9.1,  9.2,  9.3,  9.4,  9.5,  9.6,  9.7,  9.8,  9.9,\n",
       "       10. ]))"
      ]
     },
     "execution_count": 32,
     "metadata": {},
     "output_type": "execute_result"
    }
   ],
   "source": [
    "alphas = np.linspace(0.1, 10, 100)\n",
    "elastic_net_cv = ElasticNetCV(alphas=alphas)\n",
    "elastic_net_cv.fit(x_train, y_train)"
   ]
  },
  {
   "cell_type": "code",
   "execution_count": 33,
   "id": "ff76059d",
   "metadata": {
    "execution": {
     "iopub.execute_input": "2024-07-23T18:22:55.898912Z",
     "iopub.status.busy": "2024-07-23T18:22:55.898496Z",
     "iopub.status.idle": "2024-07-23T18:22:55.911237Z",
     "shell.execute_reply": "2024-07-23T18:22:55.909808Z"
    },
    "papermill": {
     "duration": 0.040656,
     "end_time": "2024-07-23T18:22:55.913996",
     "exception": false,
     "start_time": "2024-07-23T18:22:55.873340",
     "status": "completed"
    },
    "tags": []
   },
   "outputs": [],
   "source": [
    "elastic_train_predictions = elastic_net_cv.predict(x_train) \n",
    "elastic_test_predictions = elastic_net_cv.predict(x_test)\n",
    "elastic_train_score = r2_score(y_train, elastic_train_predictions)\n",
    "elastic_test_score = r2_score(y_test, elastic_test_predictions)"
   ]
  },
  {
   "cell_type": "code",
   "execution_count": 34,
   "id": "6f29a3c7",
   "metadata": {
    "execution": {
     "iopub.execute_input": "2024-07-23T18:22:55.964793Z",
     "iopub.status.busy": "2024-07-23T18:22:55.964382Z",
     "iopub.status.idle": "2024-07-23T18:22:55.971896Z",
     "shell.execute_reply": "2024-07-23T18:22:55.970813Z"
    },
    "papermill": {
     "duration": 0.035862,
     "end_time": "2024-07-23T18:22:55.974375",
     "exception": false,
     "start_time": "2024-07-23T18:22:55.938513",
     "status": "completed"
    },
    "tags": []
   },
   "outputs": [
    {
     "data": {
      "text/plain": [
       "0.1"
      ]
     },
     "execution_count": 34,
     "metadata": {},
     "output_type": "execute_result"
    }
   ],
   "source": [
    "best_alpha = elastic_net_cv.alpha_\n",
    "best_alpha"
   ]
  },
  {
   "cell_type": "markdown",
   "id": "5c022685",
   "metadata": {
    "papermill": {
     "duration": 0.023716,
     "end_time": "2024-07-23T18:22:56.022482",
     "exception": false,
     "start_time": "2024-07-23T18:22:55.998766",
     "status": "completed"
    },
    "tags": []
   },
   "source": [
    "### Alphas with logspace:"
   ]
  },
  {
   "cell_type": "code",
   "execution_count": 35,
   "id": "df537a0b",
   "metadata": {
    "execution": {
     "iopub.execute_input": "2024-07-23T18:22:56.072071Z",
     "iopub.status.busy": "2024-07-23T18:22:56.071642Z",
     "iopub.status.idle": "2024-07-23T18:22:56.170815Z",
     "shell.execute_reply": "2024-07-23T18:22:56.169675Z"
    },
    "papermill": {
     "duration": 0.127016,
     "end_time": "2024-07-23T18:22:56.173310",
     "exception": false,
     "start_time": "2024-07-23T18:22:56.046294",
     "status": "completed"
    },
    "tags": []
   },
   "outputs": [
    {
     "data": {
      "text/html": [
       "<style>#sk-container-id-6 {color: black;background-color: white;}#sk-container-id-6 pre{padding: 0;}#sk-container-id-6 div.sk-toggleable {background-color: white;}#sk-container-id-6 label.sk-toggleable__label {cursor: pointer;display: block;width: 100%;margin-bottom: 0;padding: 0.3em;box-sizing: border-box;text-align: center;}#sk-container-id-6 label.sk-toggleable__label-arrow:before {content: \"▸\";float: left;margin-right: 0.25em;color: #696969;}#sk-container-id-6 label.sk-toggleable__label-arrow:hover:before {color: black;}#sk-container-id-6 div.sk-estimator:hover label.sk-toggleable__label-arrow:before {color: black;}#sk-container-id-6 div.sk-toggleable__content {max-height: 0;max-width: 0;overflow: hidden;text-align: left;background-color: #f0f8ff;}#sk-container-id-6 div.sk-toggleable__content pre {margin: 0.2em;color: black;border-radius: 0.25em;background-color: #f0f8ff;}#sk-container-id-6 input.sk-toggleable__control:checked~div.sk-toggleable__content {max-height: 200px;max-width: 100%;overflow: auto;}#sk-container-id-6 input.sk-toggleable__control:checked~label.sk-toggleable__label-arrow:before {content: \"▾\";}#sk-container-id-6 div.sk-estimator input.sk-toggleable__control:checked~label.sk-toggleable__label {background-color: #d4ebff;}#sk-container-id-6 div.sk-label input.sk-toggleable__control:checked~label.sk-toggleable__label {background-color: #d4ebff;}#sk-container-id-6 input.sk-hidden--visually {border: 0;clip: rect(1px 1px 1px 1px);clip: rect(1px, 1px, 1px, 1px);height: 1px;margin: -1px;overflow: hidden;padding: 0;position: absolute;width: 1px;}#sk-container-id-6 div.sk-estimator {font-family: monospace;background-color: #f0f8ff;border: 1px dotted black;border-radius: 0.25em;box-sizing: border-box;margin-bottom: 0.5em;}#sk-container-id-6 div.sk-estimator:hover {background-color: #d4ebff;}#sk-container-id-6 div.sk-parallel-item::after {content: \"\";width: 100%;border-bottom: 1px solid gray;flex-grow: 1;}#sk-container-id-6 div.sk-label:hover label.sk-toggleable__label {background-color: #d4ebff;}#sk-container-id-6 div.sk-serial::before {content: \"\";position: absolute;border-left: 1px solid gray;box-sizing: border-box;top: 0;bottom: 0;left: 50%;z-index: 0;}#sk-container-id-6 div.sk-serial {display: flex;flex-direction: column;align-items: center;background-color: white;padding-right: 0.2em;padding-left: 0.2em;position: relative;}#sk-container-id-6 div.sk-item {position: relative;z-index: 1;}#sk-container-id-6 div.sk-parallel {display: flex;align-items: stretch;justify-content: center;background-color: white;position: relative;}#sk-container-id-6 div.sk-item::before, #sk-container-id-6 div.sk-parallel-item::before {content: \"\";position: absolute;border-left: 1px solid gray;box-sizing: border-box;top: 0;bottom: 0;left: 50%;z-index: -1;}#sk-container-id-6 div.sk-parallel-item {display: flex;flex-direction: column;z-index: 1;position: relative;background-color: white;}#sk-container-id-6 div.sk-parallel-item:first-child::after {align-self: flex-end;width: 50%;}#sk-container-id-6 div.sk-parallel-item:last-child::after {align-self: flex-start;width: 50%;}#sk-container-id-6 div.sk-parallel-item:only-child::after {width: 0;}#sk-container-id-6 div.sk-dashed-wrapped {border: 1px dashed gray;margin: 0 0.4em 0.5em 0.4em;box-sizing: border-box;padding-bottom: 0.4em;background-color: white;}#sk-container-id-6 div.sk-label label {font-family: monospace;font-weight: bold;display: inline-block;line-height: 1.2em;}#sk-container-id-6 div.sk-label-container {text-align: center;}#sk-container-id-6 div.sk-container {/* jupyter's `normalize.less` sets `[hidden] { display: none; }` but bootstrap.min.css set `[hidden] { display: none !important; }` so we also need the `!important` here to be able to override the default hidden behavior on the sphinx rendered scikit-learn.org. See: https://github.com/scikit-learn/scikit-learn/issues/21755 */display: inline-block !important;position: relative;}#sk-container-id-6 div.sk-text-repr-fallback {display: none;}</style><div id=\"sk-container-id-6\" class=\"sk-top-container\"><div class=\"sk-text-repr-fallback\"><pre>ElasticNetCV(alphas=array([1.25892541e+00, 1.58489319e+00, 1.99526231e+00, 2.51188643e+00,\n",
       "       3.16227766e+00, 3.98107171e+00, 5.01187234e+00, 6.30957344e+00,\n",
       "       7.94328235e+00, 1.00000000e+01, 1.25892541e+01, 1.58489319e+01,\n",
       "       1.99526231e+01, 2.51188643e+01, 3.16227766e+01, 3.98107171e+01,\n",
       "       5.01187234e+01, 6.30957344e+01, 7.94328235e+01, 1.00000000e+02,\n",
       "       1.25892541e+02, 1.584893...\n",
       "       5.01187234e+07, 6.30957344e+07, 7.94328235e+07, 1.00000000e+08,\n",
       "       1.25892541e+08, 1.58489319e+08, 1.99526231e+08, 2.51188643e+08,\n",
       "       3.16227766e+08, 3.98107171e+08, 5.01187234e+08, 6.30957344e+08,\n",
       "       7.94328235e+08, 1.00000000e+09, 1.25892541e+09, 1.58489319e+09,\n",
       "       1.99526231e+09, 2.51188643e+09, 3.16227766e+09, 3.98107171e+09,\n",
       "       5.01187234e+09, 6.30957344e+09, 7.94328235e+09, 1.00000000e+10]))</pre><b>In a Jupyter environment, please rerun this cell to show the HTML representation or trust the notebook. <br />On GitHub, the HTML representation is unable to render, please try loading this page with nbviewer.org.</b></div><div class=\"sk-container\" hidden><div class=\"sk-item\"><div class=\"sk-estimator sk-toggleable\"><input class=\"sk-toggleable__control sk-hidden--visually\" id=\"sk-estimator-id-6\" type=\"checkbox\" checked><label for=\"sk-estimator-id-6\" class=\"sk-toggleable__label sk-toggleable__label-arrow\">ElasticNetCV</label><div class=\"sk-toggleable__content\"><pre>ElasticNetCV(alphas=array([1.25892541e+00, 1.58489319e+00, 1.99526231e+00, 2.51188643e+00,\n",
       "       3.16227766e+00, 3.98107171e+00, 5.01187234e+00, 6.30957344e+00,\n",
       "       7.94328235e+00, 1.00000000e+01, 1.25892541e+01, 1.58489319e+01,\n",
       "       1.99526231e+01, 2.51188643e+01, 3.16227766e+01, 3.98107171e+01,\n",
       "       5.01187234e+01, 6.30957344e+01, 7.94328235e+01, 1.00000000e+02,\n",
       "       1.25892541e+02, 1.584893...\n",
       "       5.01187234e+07, 6.30957344e+07, 7.94328235e+07, 1.00000000e+08,\n",
       "       1.25892541e+08, 1.58489319e+08, 1.99526231e+08, 2.51188643e+08,\n",
       "       3.16227766e+08, 3.98107171e+08, 5.01187234e+08, 6.30957344e+08,\n",
       "       7.94328235e+08, 1.00000000e+09, 1.25892541e+09, 1.58489319e+09,\n",
       "       1.99526231e+09, 2.51188643e+09, 3.16227766e+09, 3.98107171e+09,\n",
       "       5.01187234e+09, 6.30957344e+09, 7.94328235e+09, 1.00000000e+10]))</pre></div></div></div></div></div>"
      ],
      "text/plain": [
       "ElasticNetCV(alphas=array([1.25892541e+00, 1.58489319e+00, 1.99526231e+00, 2.51188643e+00,\n",
       "       3.16227766e+00, 3.98107171e+00, 5.01187234e+00, 6.30957344e+00,\n",
       "       7.94328235e+00, 1.00000000e+01, 1.25892541e+01, 1.58489319e+01,\n",
       "       1.99526231e+01, 2.51188643e+01, 3.16227766e+01, 3.98107171e+01,\n",
       "       5.01187234e+01, 6.30957344e+01, 7.94328235e+01, 1.00000000e+02,\n",
       "       1.25892541e+02, 1.584893...\n",
       "       5.01187234e+07, 6.30957344e+07, 7.94328235e+07, 1.00000000e+08,\n",
       "       1.25892541e+08, 1.58489319e+08, 1.99526231e+08, 2.51188643e+08,\n",
       "       3.16227766e+08, 3.98107171e+08, 5.01187234e+08, 6.30957344e+08,\n",
       "       7.94328235e+08, 1.00000000e+09, 1.25892541e+09, 1.58489319e+09,\n",
       "       1.99526231e+09, 2.51188643e+09, 3.16227766e+09, 3.98107171e+09,\n",
       "       5.01187234e+09, 6.30957344e+09, 7.94328235e+09, 1.00000000e+10]))"
      ]
     },
     "execution_count": 35,
     "metadata": {},
     "output_type": "execute_result"
    }
   ],
   "source": [
    "alphas = np.logspace(0.1, 10, 100)\n",
    "elastic_net_logspace = ElasticNetCV(alphas=alphas)\n",
    "elastic_net_logspace.fit(x_train, y_train)"
   ]
  },
  {
   "cell_type": "code",
   "execution_count": 36,
   "id": "4b8162b8",
   "metadata": {
    "execution": {
     "iopub.execute_input": "2024-07-23T18:22:56.222978Z",
     "iopub.status.busy": "2024-07-23T18:22:56.222612Z",
     "iopub.status.idle": "2024-07-23T18:22:56.233871Z",
     "shell.execute_reply": "2024-07-23T18:22:56.232887Z"
    },
    "papermill": {
     "duration": 0.03939,
     "end_time": "2024-07-23T18:22:56.236513",
     "exception": false,
     "start_time": "2024-07-23T18:22:56.197123",
     "status": "completed"
    },
    "tags": []
   },
   "outputs": [],
   "source": [
    "elastic_train_logspace_predictions = elastic_net_logspace.predict(x_train) \n",
    "elastic_test_logspace_predictions = elastic_net_logspace.predict(x_test)\n",
    "elastic_train_logspace_score = r2_score(y_train, elastic_train_logspace_predictions)\n",
    "elastic_test_logspace_score = r2_score(y_test, elastic_test_logspace_predictions)"
   ]
  },
  {
   "cell_type": "code",
   "execution_count": 37,
   "id": "36f8fd19",
   "metadata": {
    "execution": {
     "iopub.execute_input": "2024-07-23T18:22:56.286125Z",
     "iopub.status.busy": "2024-07-23T18:22:56.285696Z",
     "iopub.status.idle": "2024-07-23T18:22:56.293246Z",
     "shell.execute_reply": "2024-07-23T18:22:56.292063Z"
    },
    "papermill": {
     "duration": 0.035307,
     "end_time": "2024-07-23T18:22:56.295751",
     "exception": false,
     "start_time": "2024-07-23T18:22:56.260444",
     "status": "completed"
    },
    "tags": []
   },
   "outputs": [
    {
     "data": {
      "text/plain": [
       "1.2589254117941673"
      ]
     },
     "execution_count": 37,
     "metadata": {},
     "output_type": "execute_result"
    }
   ],
   "source": [
    "best_alpha = elastic_net_logspace.alpha_\n",
    "best_alpha"
   ]
  },
  {
   "cell_type": "markdown",
   "id": "78c38b6a",
   "metadata": {
    "papermill": {
     "duration": 0.023742,
     "end_time": "2024-07-23T18:22:56.343607",
     "exception": false,
     "start_time": "2024-07-23T18:22:56.319865",
     "status": "completed"
    },
    "tags": []
   },
   "source": [
    "## Comparing results:"
   ]
  },
  {
   "cell_type": "code",
   "execution_count": 38,
   "id": "226d9aa2",
   "metadata": {
    "execution": {
     "iopub.execute_input": "2024-07-23T18:22:56.393431Z",
     "iopub.status.busy": "2024-07-23T18:22:56.392972Z",
     "iopub.status.idle": "2024-07-23T18:22:57.055160Z",
     "shell.execute_reply": "2024-07-23T18:22:57.053738Z"
    },
    "papermill": {
     "duration": 0.690608,
     "end_time": "2024-07-23T18:22:57.058247",
     "exception": false,
     "start_time": "2024-07-23T18:22:56.367639",
     "status": "completed"
    },
    "tags": []
   },
   "outputs": [
    {
     "data": {
      "image/png": "[encoded data removed]",
      "text/plain": [
       "<Figure size 640x480 with 1 Axes>"
      ]
     },
     "metadata": {},
     "output_type": "display_data"
    }
   ],
   "source": [
    "labels = ['Least Squares', 'Ridge', 'Ridge (Logspace)','Lasso','Lasso (Lospace)', 'Elastic-net', 'Elastic-net (logspace)']\n",
    "results = [r2_score(y_train,least_squares_train_predictions), r2_score(y_train,ridge_train_predictions), r2_score(y_train,ridge_logspace_train_predictions),r2_score(y_train, lasso_train_predictions), r2_score(y_train, lasso_logspace_train_predictions), elastic_train_score, elastic_train_logspace_score]\n",
    "fig, ax = plt.subplots()\n",
    "ax.set_title(\"Train dataset\")\n",
    "fig.set_tight_layout(True)\n",
    "bars = ax.bar(labels, results)\n",
    "for bar in bars:\n",
    "    yval = bar.get_height() \n",
    "    ax.text(bar.get_x() + bar.get_width() / 2, yval, f'{yval:.5f}', \n",
    "            ha='center', va='bottom') \n",
    "    plt.xticks(rotation=45)"
   ]
  },
  {
   "cell_type": "code",
   "execution_count": 39,
   "id": "89234504",
   "metadata": {
    "execution": {
     "iopub.execute_input": "2024-07-23T18:22:57.110416Z",
     "iopub.status.busy": "2024-07-23T18:22:57.109965Z",
     "iopub.status.idle": "2024-07-23T18:22:57.645199Z",
     "shell.execute_reply": "2024-07-23T18:22:57.644112Z"
    },
    "papermill": {
     "duration": 0.564529,
     "end_time": "2024-07-23T18:22:57.648102",
     "exception": false,
     "start_time": "2024-07-23T18:22:57.083573",
     "status": "completed"
    },
    "tags": []
   },
   "outputs": [
    {
     "data": {
      "image/png": "[encoded data removed]",
      "text/plain": [
       "<Figure size 640x480 with 1 Axes>"
      ]
     },
     "metadata": {},
     "output_type": "display_data"
    }
   ],
   "source": [
    "labels = ['Least Squares', 'Ridge', 'Ridge (Logspace)','Lasso','Lasso (Logspace)', 'Elastic-net', 'Elastic-net (logspace)']\n",
    "results = [r2_score(y_test,least_squares_test_predictions), r2_score(y_test,ridge_test_predictions), r2_score(y_test,ridge_logspace_test_predictions),r2_score(y_test, lasso_test_predictions), r2_score(y_test, lasso_logspace_test_predictions), elastic_test_score, elastic_test_logspace_score]\n",
    "fig, ax = plt.subplots()\n",
    "ax.set_title(\"Test dataset\")\n",
    "fig.set_tight_layout(True)\n",
    "bars = ax.bar(labels, results)\n",
    "for bar in bars:\n",
    "    yval = bar.get_height() \n",
    "    ax.text(bar.get_x() + bar.get_width() / 2, yval, f'{yval:.5f}', \n",
    "            ha='center', va='bottom') \n",
    "    plt.xticks(rotation=45)"
   ]
  },
  {
   "cell_type": "code",
   "execution_count": null,
   "id": "b3863e01",
   "metadata": {
    "papermill": {
     "duration": 0.025037,
     "end_time": "2024-07-23T18:22:57.699445",
     "exception": false,
     "start_time": "2024-07-23T18:22:57.674408",
     "status": "completed"
    },
    "tags": []
   },
   "outputs": [],
   "source": []
  }
 ],
 "metadata": {
  "kaggle": {
   "accelerator": "none",
   "dataSources": [
    {
     "datasetId": 3489360,
     "sourceId": 6092787,
     "sourceType": "datasetVersion"
    }
   ],
   "dockerImageVersionId": 30698,
   "isGpuEnabled": false,
   "isInternetEnabled": true,
   "language": "python",
   "sourceType": "notebook"
  },
  "kernelspec": {
   "display_name": "Python 3",
   "language": "python",
   "name": "python3"
  },
  "language_info": {
   "codemirror_mode": {
    "name": "ipython",
    "version": 3
   },
   "file_extension": ".py",
   "mimetype": "text/x-python",
   "name": "python",
   "nbconvert_exporter": "python",
   "pygments_lexer": "ipython3",
   "version": "3.10.13"
  },
  "papermill": {
   "default_parameters": {},
   "duration": 11.71045,
   "end_time": "2024-07-23T18:22:58.346890",
   "environment_variables": {},
   "exception": null,
   "input_path": "__notebook__.ipynb",
   "output_path": "__notebook__.ipynb",
   "parameters": {},
   "start_time": "2024-07-23T18:22:46.636440",
   "version": "2.5.0"
  }
 },
 "nbformat": 4,
 "nbformat_minor": 5
}
